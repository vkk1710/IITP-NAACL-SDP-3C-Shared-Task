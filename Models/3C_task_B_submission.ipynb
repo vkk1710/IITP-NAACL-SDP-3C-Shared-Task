{
  "nbformat": 4,
  "nbformat_minor": 0,
  "metadata": {
    "colab": {
      "name": "3C shared task B.ipynb",
      "provenance": [],
      "toc_visible": true
    },
    "kernelspec": {
      "name": "python3",
      "display_name": "Python 3"
    },
    "language_info": {
      "name": "python"
    }
  },
  "cells": [
    {
      "cell_type": "code",
      "metadata": {
        "colab": {
          "base_uri": "https://localhost:8080/"
        },
        "id": "KqJmv2NzN7pZ",
        "outputId": "fa8b7d57-e5a6-4db6-d10c-767712c66de1"
      },
      "source": [
        "!pip install vaderSentiment"
      ],
      "execution_count": null,
      "outputs": [
        {
          "output_type": "stream",
          "text": [
            "Collecting vaderSentiment\n",
            "\u001b[?25l  Downloading https://files.pythonhosted.org/packages/76/fc/310e16254683c1ed35eeb97386986d6c00bc29df17ce280aed64d55537e9/vaderSentiment-3.3.2-py2.py3-none-any.whl (125kB)\n",
            "\r\u001b[K     |██▋                             | 10kB 14.7MB/s eta 0:00:01\r\u001b[K     |█████▏                          | 20kB 13.2MB/s eta 0:00:01\r\u001b[K     |███████▉                        | 30kB 9.1MB/s eta 0:00:01\r\u001b[K     |██████████▍                     | 40kB 8.2MB/s eta 0:00:01\r\u001b[K     |█████████████                   | 51kB 5.1MB/s eta 0:00:01\r\u001b[K     |███████████████▋                | 61kB 5.3MB/s eta 0:00:01\r\u001b[K     |██████████████████▏             | 71kB 5.8MB/s eta 0:00:01\r\u001b[K     |████████████████████▉           | 81kB 6.4MB/s eta 0:00:01\r\u001b[K     |███████████████████████▍        | 92kB 6.2MB/s eta 0:00:01\r\u001b[K     |██████████████████████████      | 102kB 4.9MB/s eta 0:00:01\r\u001b[K     |████████████████████████████▋   | 112kB 4.9MB/s eta 0:00:01\r\u001b[K     |███████████████████████████████▏| 122kB 4.9MB/s eta 0:00:01\r\u001b[K     |████████████████████████████████| 133kB 4.9MB/s \n",
            "\u001b[?25hRequirement already satisfied: requests in /usr/local/lib/python3.7/dist-packages (from vaderSentiment) (2.23.0)\n",
            "Requirement already satisfied: certifi>=2017.4.17 in /usr/local/lib/python3.7/dist-packages (from requests->vaderSentiment) (2020.12.5)\n",
            "Requirement already satisfied: urllib3!=1.25.0,!=1.25.1,<1.26,>=1.21.1 in /usr/local/lib/python3.7/dist-packages (from requests->vaderSentiment) (1.24.3)\n",
            "Requirement already satisfied: idna<3,>=2.5 in /usr/local/lib/python3.7/dist-packages (from requests->vaderSentiment) (2.10)\n",
            "Requirement already satisfied: chardet<4,>=3.0.2 in /usr/local/lib/python3.7/dist-packages (from requests->vaderSentiment) (3.0.4)\n",
            "Installing collected packages: vaderSentiment\n",
            "Successfully installed vaderSentiment-3.3.2\n"
          ],
          "name": "stdout"
        }
      ]
    },
    {
      "cell_type": "code",
      "metadata": {
        "id": "5_gON17UjN_T"
      },
      "source": [
        "import os\n",
        "import numpy as np\n",
        "import pandas as pd\n",
        "from sklearn.model_selection import train_test_split\n",
        "from sklearn import metrics\n",
        "import matplotlib.pyplot as plt\n",
        "import seaborn as sns\n",
        "from sklearn.preprocessing import StandardScaler\n",
        "from sklearn.linear_model import LogisticRegression\n",
        "from sklearn.neighbors import KNeighborsClassifier\n",
        "from sklearn.svm import LinearSVC\n",
        "from sklearn.tree import DecisionTreeClassifier\n",
        "from sklearn.ensemble import RandomForestClassifier\n",
        "from sklearn.pipeline import Pipeline\n",
        "from xgboost import XGBClassifier\n",
        "from sklearn.feature_extraction.text import TfidfVectorizer\n",
        "import nltk\n",
        "from nltk import download\n",
        "from nltk.corpus import stopwords\n",
        "from nltk.tokenize import word_tokenize\n",
        "from tqdm import tqdm\n",
        "from gensim import models\n",
        "import re\n",
        "from vaderSentiment.vaderSentiment import SentimentIntensityAnalyzer"
      ],
      "execution_count": null,
      "outputs": []
    },
    {
      "cell_type": "markdown",
      "metadata": {
        "id": "1DSwh5XSuqyj"
      },
      "source": [
        "# **Features generation**"
      ]
    },
    {
      "cell_type": "code",
      "metadata": {
        "id": "MvqnRgCF9wkB",
        "colab": {
          "base_uri": "https://localhost:8080/"
        },
        "outputId": "e618d9ac-cffd-4b89-b316-3d317388b184"
      },
      "source": [
        "from google.colab import drive\n",
        "drive.mount('/content/drive')"
      ],
      "execution_count": null,
      "outputs": [
        {
          "output_type": "stream",
          "text": [
            "Mounted at /content/drive\n"
          ],
          "name": "stdout"
        }
      ]
    },
    {
      "cell_type": "code",
      "metadata": {
        "colab": {
          "base_uri": "https://localhost:8080/",
          "height": 570
        },
        "id": "kSqo7xxguz7W",
        "outputId": "9ccd8095-aebc-4732-e46c-2e641c771fba"
      },
      "source": [
        "testdf = pd.read_csv('/content/taskB_SDP_test.csv')\n",
        "testdf"
      ],
      "execution_count": null,
      "outputs": [
        {
          "output_type": "execute_result",
          "data": {
            "text/html": [
              "<div>\n",
              "<style scoped>\n",
              "    .dataframe tbody tr th:only-of-type {\n",
              "        vertical-align: middle;\n",
              "    }\n",
              "\n",
              "    .dataframe tbody tr th {\n",
              "        vertical-align: top;\n",
              "    }\n",
              "\n",
              "    .dataframe thead th {\n",
              "        text-align: right;\n",
              "    }\n",
              "</style>\n",
              "<table border=\"1\" class=\"dataframe\">\n",
              "  <thead>\n",
              "    <tr style=\"text-align: right;\">\n",
              "      <th></th>\n",
              "      <th>unique_id</th>\n",
              "      <th>core_id</th>\n",
              "      <th>citing_title</th>\n",
              "      <th>citing_author</th>\n",
              "      <th>cited_title</th>\n",
              "      <th>cited_author</th>\n",
              "      <th>citation_context</th>\n",
              "    </tr>\n",
              "  </thead>\n",
              "  <tbody>\n",
              "    <tr>\n",
              "      <th>0</th>\n",
              "      <td>CCT1</td>\n",
              "      <td>81153632</td>\n",
              "      <td>Two steps back, one step forward: reconstructi...</td>\n",
              "      <td>Severin Hohensinner</td>\n",
              "      <td>The English village community examined in its ...</td>\n",
              "      <td>Seebohm</td>\n",
              "      <td>In historical research, regressive methods mov...</td>\n",
              "    </tr>\n",
              "    <tr>\n",
              "      <th>1</th>\n",
              "      <td>CCT2</td>\n",
              "      <td>81153632</td>\n",
              "      <td>Two steps back, one step forward: reconstructi...</td>\n",
              "      <td>Severin Hohensinner</td>\n",
              "      <td>Die italienischen Begr nder der Wiener Donauka...</td>\n",
              "      <td>Slezak</td>\n",
              "      <td>For example, a new cut-off channel at the Dona...</td>\n",
              "    </tr>\n",
              "    <tr>\n",
              "      <th>2</th>\n",
              "      <td>CCT3</td>\n",
              "      <td>81153632</td>\n",
              "      <td>Two steps back, one step forward: reconstructi...</td>\n",
              "      <td>Severin Hohensinner</td>\n",
              "      <td>Wien im Bild historischer Karten Die Entwicklu...</td>\n",
              "      <td>Opll</td>\n",
              "      <td>It can be considered as the first map of the V...</td>\n",
              "    </tr>\n",
              "    <tr>\n",
              "      <th>3</th>\n",
              "      <td>CCT4</td>\n",
              "      <td>81153632</td>\n",
              "      <td>Two steps back, one step forward: reconstructi...</td>\n",
              "      <td>Severin Hohensinner</td>\n",
              "      <td>The hydraulic geometry of stream channels and ...</td>\n",
              "      <td>Leopold</td>\n",
              "      <td>According to the ''hydraulic geometry'' approa...</td>\n",
              "    </tr>\n",
              "    <tr>\n",
              "      <th>4</th>\n",
              "      <td>CCT5</td>\n",
              "      <td>81153632</td>\n",
              "      <td>Two steps back, one step forward: reconstructi...</td>\n",
              "      <td>Severin Hohensinner</td>\n",
              "      <td>From memory to written record</td>\n",
              "      <td>Clanchy</td>\n",
              "      <td>Historians ask for the motivation and interest...</td>\n",
              "    </tr>\n",
              "    <tr>\n",
              "      <th>...</th>\n",
              "      <td>...</td>\n",
              "      <td>...</td>\n",
              "      <td>...</td>\n",
              "      <td>...</td>\n",
              "      <td>...</td>\n",
              "      <td>...</td>\n",
              "      <td>...</td>\n",
              "    </tr>\n",
              "    <tr>\n",
              "      <th>995</th>\n",
              "      <td>CCT996</td>\n",
              "      <td>187054964</td>\n",
              "      <td>Clinical Study Peritoneal Dialysis as a First ...</td>\n",
              "      <td>Roberto Barone</td>\n",
              "      <td>Survival of functionally anuric patients on au...</td>\n",
              "      <td>Brown</td>\n",
              "      <td>In contrast, in the NECOSAD study, the authors...</td>\n",
              "    </tr>\n",
              "    <tr>\n",
              "      <th>996</th>\n",
              "      <td>CCT997</td>\n",
              "      <td>189217163</td>\n",
              "      <td>The trajectory of neurotoxic side effects' imp...</td>\n",
              "      <td>Jenny Drott</td>\n",
              "      <td>Incidence prevalence and predictors of chemoth...</td>\n",
              "      <td>Seretny</td>\n",
              "      <td>Oxaliplatin can cause acute and chronic neurot...</td>\n",
              "    </tr>\n",
              "    <tr>\n",
              "      <th>997</th>\n",
              "      <td>CCT998</td>\n",
              "      <td>189217163</td>\n",
              "      <td>The trajectory of neurotoxic side effects' imp...</td>\n",
              "      <td>Jenny Drott</td>\n",
              "      <td>Long term course of oxaliplatin induced polyne...</td>\n",
              "      <td>Briani</td>\n",
              "      <td>The finding that neurotoxicity influences the ...</td>\n",
              "    </tr>\n",
              "    <tr>\n",
              "      <th>998</th>\n",
              "      <td>CCT999</td>\n",
              "      <td>189217163</td>\n",
              "      <td>The trajectory of neurotoxic side effects' imp...</td>\n",
              "      <td>Jenny Drott</td>\n",
              "      <td>Impact of oxaliplatin induced neuropathy a pat...</td>\n",
              "      <td>Bennett</td>\n",
              "      <td>The finding that neurotoxicity influences the ...</td>\n",
              "    </tr>\n",
              "    <tr>\n",
              "      <th>999</th>\n",
              "      <td>CCT1000</td>\n",
              "      <td>189217163</td>\n",
              "      <td>The trajectory of neurotoxic side effects' imp...</td>\n",
              "      <td>Jenny Drott</td>\n",
              "      <td>Mental health outcomes during colorectal cance...</td>\n",
              "      <td>Mosher</td>\n",
              "      <td>The post-treatment survivorship can be a distr...</td>\n",
              "    </tr>\n",
              "  </tbody>\n",
              "</table>\n",
              "<p>1000 rows × 7 columns</p>\n",
              "</div>"
            ],
            "text/plain": [
              "    unique_id  ...                                   citation_context\n",
              "0        CCT1  ...  In historical research, regressive methods mov...\n",
              "1        CCT2  ...  For example, a new cut-off channel at the Dona...\n",
              "2        CCT3  ...  It can be considered as the first map of the V...\n",
              "3        CCT4  ...  According to the ''hydraulic geometry'' approa...\n",
              "4        CCT5  ...  Historians ask for the motivation and interest...\n",
              "..        ...  ...                                                ...\n",
              "995    CCT996  ...  In contrast, in the NECOSAD study, the authors...\n",
              "996    CCT997  ...  Oxaliplatin can cause acute and chronic neurot...\n",
              "997    CCT998  ...  The finding that neurotoxicity influences the ...\n",
              "998    CCT999  ...  The finding that neurotoxicity influences the ...\n",
              "999   CCT1000  ...  The post-treatment survivorship can be a distr...\n",
              "\n",
              "[1000 rows x 7 columns]"
            ]
          },
          "metadata": {
            "tags": []
          },
          "execution_count": 81
        }
      ]
    },
    {
      "cell_type": "code",
      "metadata": {
        "id": "ZFINdFw6JQsu"
      },
      "source": [
        "## feature F14\n",
        "citance_len = []\n",
        "citedtit_len = []\n",
        "for i in testdf.index:\n",
        "  citance_len.append(len(testdf.iloc[i]['citation_context'].split()))\n",
        "  citedtit_len.append(len(testdf.iloc[i]['cited_title'].split()))\n",
        "testdf['citation length'] = citance_len\n",
        "testdf['cited title length'] = citedtit_len"
      ],
      "execution_count": null,
      "outputs": []
    },
    {
      "cell_type": "code",
      "metadata": {
        "id": "uUj9ccXfvSmp"
      },
      "source": [
        "## feature F2\n",
        "auth_freq = []\n",
        "for i in testdf.index:\n",
        "  if(testdf.iloc[i]['citing_author']==testdf.iloc[i]['cited_author']):\n",
        "    auth_freq.append(True)\n",
        "  else:\n",
        "    auth_freq.append(False)\n",
        "\n",
        "testdf['self_citation'] = auth_freq"
      ],
      "execution_count": null,
      "outputs": []
    },
    {
      "cell_type": "code",
      "metadata": {
        "id": "cieqGkPHySv8"
      },
      "source": [
        "## feature F9\n",
        "cosine_tfidf_tit = []\n",
        "for i in testdf.index:\n",
        "  citing_tit = testdf.iloc[i]['citing_title']\n",
        "  cited_tit = testdf.iloc[i]['cited_title']\n",
        "  corpus=[cited_tit,citing_tit]\n",
        "  vect = TfidfVectorizer(stop_words=\"english\")\n",
        "  tfidf = vect.fit_transform(corpus)\n",
        "  # print(tfidf.toarray())\n",
        "  # print(tfidf.T.toarray())\n",
        "  tf = tfidf*tfidf.T\n",
        "  tf = tf.toarray()\n",
        "  # print(tf[0][1])\n",
        "  cosine_tfidf_tit.append(tf[0][1])\n",
        "\n",
        "testdf['tfidf_titles'] = cosine_tfidf_tit"
      ],
      "execution_count": null,
      "outputs": []
    },
    {
      "cell_type": "code",
      "metadata": {
        "id": "JqQe4SJ6C5s_"
      },
      "source": [
        "## feature F13\n",
        "cosine_tfidf_citance_citedtit = []\n",
        "for i in testdf.index:\n",
        "  citance = testdf.iloc[i]['citation_context']\n",
        "  cited_tit = testdf.iloc[i]['cited_title']\n",
        "  corpus=[cited_tit,citance]\n",
        "  vect = TfidfVectorizer(stop_words=\"english\")\n",
        "  tfidf = vect.fit_transform(corpus)\n",
        "  # print(tfidf.toarray())\n",
        "  # print(tfidf.T.toarray())\n",
        "  tf = tfidf*tfidf.T\n",
        "  tf = tf.toarray()\n",
        "  # print(tf[0][1])\n",
        "  cosine_tfidf_citance_citedtit.append(tf[0][1])\n",
        "\n",
        "testdf['tfidf_citance_citedtitle'] = cosine_tfidf_citance_citedtit"
      ],
      "execution_count": null,
      "outputs": []
    },
    {
      "cell_type": "code",
      "metadata": {
        "id": "Z3JB4CraqbIz"
      },
      "source": [
        "def cleaning_text(text):\n",
        "  text_tokens = word_tokenize(text)\n",
        "  tokens_without_sw = [word for word in text_tokens if not word in stopwords.words()]\n",
        "  tokens = [word for word in tokens_without_sw if word.isalnum()]\n",
        "\n",
        "  return tokens "
      ],
      "execution_count": null,
      "outputs": []
    },
    {
      "cell_type": "code",
      "metadata": {
        "colab": {
          "base_uri": "https://localhost:8080/"
        },
        "id": "69Ve9I4Xw4s3",
        "outputId": "c21074a6-9d7a-4550-dc68-34ce9638cf28"
      },
      "source": [
        "len(titles_keyword_match)"
      ],
      "execution_count": null,
      "outputs": [
        {
          "output_type": "execute_result",
          "data": {
            "text/plain": [
              "2297"
            ]
          },
          "metadata": {
            "tags": []
          },
          "execution_count": 31
        }
      ]
    },
    {
      "cell_type": "code",
      "metadata": {
        "colab": {
          "base_uri": "https://localhost:8080/"
        },
        "id": "gUE_4W1InZqV",
        "outputId": "1e1f1b7e-4703-4a58-eb81-5772c60ed90d"
      },
      "source": [
        "## feature F20 = no. of distinct words matching = once confirm it!!\n",
        "nltk.download('punkt')\n",
        "nltk.download('stopwords')\n",
        "\n",
        "titles_keyword_match = []\n",
        "citance_citedtit_keyword_match = []\n",
        "\n",
        "for i in tqdm(testdf.index):\n",
        "  citingtit = testdf.iloc[i]['citing_title']\n",
        "  citedtit = testdf.iloc[i]['cited_title']\n",
        "  citance = testdf.iloc[i]['citation_context']\n",
        "\n",
        "  citingtit = set(cleaning_text(citingtit))\n",
        "  citedtit = set(cleaning_text(citedtit))\n",
        "  citance = set(cleaning_text(citance))\n",
        "\n",
        "  titles_keyword_match.append(len(citingtit.intersection(citedtit)))\n",
        "  citance_citedtit_keyword_match.append(len(citance.intersection(citedtit)))\n",
        "\n",
        "testdf['citance cited title keyword match'] = citance_citedtit_keyword_match\n",
        "testdf['citing cited titles keyword match'] = titles_keyword_match"
      ],
      "execution_count": null,
      "outputs": [
        {
          "output_type": "stream",
          "text": [
            "\r  0%|          | 0/1000 [00:00<?, ?it/s]"
          ],
          "name": "stderr"
        },
        {
          "output_type": "stream",
          "text": [
            "[nltk_data] Downloading package punkt to /root/nltk_data...\n",
            "[nltk_data]   Package punkt is already up-to-date!\n",
            "[nltk_data] Downloading package stopwords to /root/nltk_data...\n",
            "[nltk_data]   Package stopwords is already up-to-date!\n"
          ],
          "name": "stdout"
        },
        {
          "output_type": "stream",
          "text": [
            "100%|██████████| 1000/1000 [04:24<00:00,  3.77it/s]\n"
          ],
          "name": "stderr"
        }
      ]
    },
    {
      "cell_type": "code",
      "metadata": {
        "colab": {
          "base_uri": "https://localhost:8080/"
        },
        "id": "Um-_4Ope3psq",
        "outputId": "49e9cc9b-8122-419b-d8ff-b8a6789c6692"
      },
      "source": [
        "## feature F23+25\n",
        "stop_words = stopwords.words('english')\n",
        "\n",
        "wmd_titles=[]\n",
        "wmd_citance_citedtit=[]\n",
        "\n",
        "if not os.path.exists('/content/drive/MyDrive/3C 2021 shared tasks/3C Task B data/GoogleNews-vectors-negative300.bin.gz'):\n",
        "    raise ValueError(\"SKIP: You need to download the google news model\")\n",
        "    \n",
        "model = models.KeyedVectors.load_word2vec_format('/content/drive/MyDrive/3C 2021 shared tasks/3C Task B data/GoogleNews-vectors-negative300.bin.gz', binary=True)\n",
        "\n",
        "for i in tqdm(testdf.index):\n",
        "  \n",
        "  citingtit = testdf.iloc[i]['citing_title'].lower()\n",
        "  citingtit = re.sub(r'[^\\w\\s]', '', citingtit).split()\n",
        "  citedtit = testdf.iloc[i]['cited_title'].lower()\n",
        "  citedtit = re.sub(r'[^\\w\\s]', '', citedtit).split()\n",
        "  citance = testdf.iloc[i]['citation_context'].lower()\n",
        "  citance = re.sub(r'[^\\w\\s]', '', citance).split()\n",
        "\n",
        "  citingtit = [w for w in citingtit if w not in stop_words]\n",
        "  citedtit = [w for w in citedtit if w not in stop_words]\n",
        "  citance = [w for w in citance if w not in stop_words]\n",
        "\n",
        "  wmd_citance_citedtit.append(model.wmdistance(citedtit, citance))\n",
        "  wmd_titles.append(model.wmdistance(citedtit, citingtit))\n",
        "\n",
        "testdf['wmd_titles'] = wmd_titles\n",
        "testdf['wmd_citance_cited_title'] = wmd_citance_citedtit"
      ],
      "execution_count": null,
      "outputs": [
        {
          "output_type": "stream",
          "text": [
            "100%|██████████| 1000/1000 [00:05<00:00, 177.69it/s]\n"
          ],
          "name": "stderr"
        }
      ]
    },
    {
      "cell_type": "code",
      "metadata": {
        "colab": {
          "base_uri": "https://localhost:8080/"
        },
        "id": "210A5qN9QNfU",
        "outputId": "6addad9a-c900-4725-e221-f0574df08f2d"
      },
      "source": [
        "scores"
      ],
      "execution_count": null,
      "outputs": [
        {
          "output_type": "execute_result",
          "data": {
            "text/plain": [
              "{'compound': 0.25, 'neg': 0.0, 'neu': 0.882, 'pos': 0.118}"
            ]
          },
          "metadata": {
            "tags": []
          },
          "execution_count": 76
        }
      ]
    },
    {
      "cell_type": "code",
      "metadata": {
        "colab": {
          "base_uri": "https://localhost:8080/"
        },
        "id": "D6YAzHkKCsAe",
        "outputId": "7d9e7544-976b-4d78-d636-015ac52126dd"
      },
      "source": [
        "## feature F28  VADER sentiment for citance\n",
        "analyser = SentimentIntensityAnalyzer()\n",
        "\n",
        "vad_pos=[]\n",
        "vad_neg=[]\n",
        "vad_neu=[]\n",
        "vad_com=[]\n",
        "\n",
        "# print(analyser.polarity_scores('I am worst, best'))\n",
        "for i in tqdm(testdf.index):\n",
        "  citance = testdf.iloc[i]['citation_context']\n",
        "  scores = analyser.polarity_scores(citance)\n",
        "  vad_pos.append(scores['pos'])\n",
        "  vad_neg.append(scores['neg'])\n",
        "  vad_neu.append(scores['neu'])\n",
        "  vad_com.append(scores['compound'])\n",
        "\n",
        "testdf['vad_pos'] = vad_pos\n",
        "testdf['vad_neg'] = vad_neg\n",
        "testdf['vad_neu'] = vad_neu\n",
        "testdf['vad_com'] = vad_com"
      ],
      "execution_count": null,
      "outputs": [
        {
          "output_type": "stream",
          "text": [
            "100%|██████████| 1000/1000 [00:00<00:00, 2228.19it/s]\n"
          ],
          "name": "stderr"
        }
      ]
    },
    {
      "cell_type": "code",
      "metadata": {
        "colab": {
          "base_uri": "https://localhost:8080/",
          "height": 570
        },
        "id": "Yafc-DkjVFmB",
        "outputId": "3c5cc774-ea65-4fae-acdf-9b15606f00b0"
      },
      "source": [
        "df"
      ],
      "execution_count": null,
      "outputs": [
        {
          "output_type": "execute_result",
          "data": {
            "text/html": [
              "<div>\n",
              "<style scoped>\n",
              "    .dataframe tbody tr th:only-of-type {\n",
              "        vertical-align: middle;\n",
              "    }\n",
              "\n",
              "    .dataframe tbody tr th {\n",
              "        vertical-align: top;\n",
              "    }\n",
              "\n",
              "    .dataframe thead th {\n",
              "        text-align: right;\n",
              "    }\n",
              "</style>\n",
              "<table border=\"1\" class=\"dataframe\">\n",
              "  <thead>\n",
              "    <tr style=\"text-align: right;\">\n",
              "      <th></th>\n",
              "      <th>unique_id</th>\n",
              "      <th>core_id</th>\n",
              "      <th>citing_title</th>\n",
              "      <th>citing_author</th>\n",
              "      <th>cited_title</th>\n",
              "      <th>cited_author</th>\n",
              "      <th>citation_context</th>\n",
              "    </tr>\n",
              "  </thead>\n",
              "  <tbody>\n",
              "    <tr>\n",
              "      <th>0</th>\n",
              "      <td>CCT1</td>\n",
              "      <td>81153632</td>\n",
              "      <td>Two steps back, one step forward: reconstructi...</td>\n",
              "      <td>Severin Hohensinner</td>\n",
              "      <td>The English village community examined in its ...</td>\n",
              "      <td>Seebohm</td>\n",
              "      <td>In historical research, regressive methods mov...</td>\n",
              "    </tr>\n",
              "    <tr>\n",
              "      <th>1</th>\n",
              "      <td>CCT2</td>\n",
              "      <td>81153632</td>\n",
              "      <td>Two steps back, one step forward: reconstructi...</td>\n",
              "      <td>Severin Hohensinner</td>\n",
              "      <td>Die italienischen Begr nder der Wiener Donauka...</td>\n",
              "      <td>Slezak</td>\n",
              "      <td>For example, a new cut-off channel at the Dona...</td>\n",
              "    </tr>\n",
              "    <tr>\n",
              "      <th>2</th>\n",
              "      <td>CCT3</td>\n",
              "      <td>81153632</td>\n",
              "      <td>Two steps back, one step forward: reconstructi...</td>\n",
              "      <td>Severin Hohensinner</td>\n",
              "      <td>Wien im Bild historischer Karten Die Entwicklu...</td>\n",
              "      <td>Opll</td>\n",
              "      <td>It can be considered as the first map of the V...</td>\n",
              "    </tr>\n",
              "    <tr>\n",
              "      <th>3</th>\n",
              "      <td>CCT4</td>\n",
              "      <td>81153632</td>\n",
              "      <td>Two steps back, one step forward: reconstructi...</td>\n",
              "      <td>Severin Hohensinner</td>\n",
              "      <td>The hydraulic geometry of stream channels and ...</td>\n",
              "      <td>Leopold</td>\n",
              "      <td>According to the ''hydraulic geometry'' approa...</td>\n",
              "    </tr>\n",
              "    <tr>\n",
              "      <th>4</th>\n",
              "      <td>CCT5</td>\n",
              "      <td>81153632</td>\n",
              "      <td>Two steps back, one step forward: reconstructi...</td>\n",
              "      <td>Severin Hohensinner</td>\n",
              "      <td>From memory to written record</td>\n",
              "      <td>Clanchy</td>\n",
              "      <td>Historians ask for the motivation and interest...</td>\n",
              "    </tr>\n",
              "    <tr>\n",
              "      <th>...</th>\n",
              "      <td>...</td>\n",
              "      <td>...</td>\n",
              "      <td>...</td>\n",
              "      <td>...</td>\n",
              "      <td>...</td>\n",
              "      <td>...</td>\n",
              "      <td>...</td>\n",
              "    </tr>\n",
              "    <tr>\n",
              "      <th>995</th>\n",
              "      <td>CCT996</td>\n",
              "      <td>187054964</td>\n",
              "      <td>Clinical Study Peritoneal Dialysis as a First ...</td>\n",
              "      <td>Roberto Barone</td>\n",
              "      <td>Survival of functionally anuric patients on au...</td>\n",
              "      <td>Brown</td>\n",
              "      <td>In contrast, in the NECOSAD study, the authors...</td>\n",
              "    </tr>\n",
              "    <tr>\n",
              "      <th>996</th>\n",
              "      <td>CCT997</td>\n",
              "      <td>189217163</td>\n",
              "      <td>The trajectory of neurotoxic side effects' imp...</td>\n",
              "      <td>Jenny Drott</td>\n",
              "      <td>Incidence prevalence and predictors of chemoth...</td>\n",
              "      <td>Seretny</td>\n",
              "      <td>Oxaliplatin can cause acute and chronic neurot...</td>\n",
              "    </tr>\n",
              "    <tr>\n",
              "      <th>997</th>\n",
              "      <td>CCT998</td>\n",
              "      <td>189217163</td>\n",
              "      <td>The trajectory of neurotoxic side effects' imp...</td>\n",
              "      <td>Jenny Drott</td>\n",
              "      <td>Long term course of oxaliplatin induced polyne...</td>\n",
              "      <td>Briani</td>\n",
              "      <td>The finding that neurotoxicity influences the ...</td>\n",
              "    </tr>\n",
              "    <tr>\n",
              "      <th>998</th>\n",
              "      <td>CCT999</td>\n",
              "      <td>189217163</td>\n",
              "      <td>The trajectory of neurotoxic side effects' imp...</td>\n",
              "      <td>Jenny Drott</td>\n",
              "      <td>Impact of oxaliplatin induced neuropathy a pat...</td>\n",
              "      <td>Bennett</td>\n",
              "      <td>The finding that neurotoxicity influences the ...</td>\n",
              "    </tr>\n",
              "    <tr>\n",
              "      <th>999</th>\n",
              "      <td>CCT1000</td>\n",
              "      <td>189217163</td>\n",
              "      <td>The trajectory of neurotoxic side effects' imp...</td>\n",
              "      <td>Jenny Drott</td>\n",
              "      <td>Mental health outcomes during colorectal cance...</td>\n",
              "      <td>Mosher</td>\n",
              "      <td>The post-treatment survivorship can be a distr...</td>\n",
              "    </tr>\n",
              "  </tbody>\n",
              "</table>\n",
              "<p>1000 rows × 7 columns</p>\n",
              "</div>"
            ],
            "text/plain": [
              "    unique_id  ...                                   citation_context\n",
              "0        CCT1  ...  In historical research, regressive methods mov...\n",
              "1        CCT2  ...  For example, a new cut-off channel at the Dona...\n",
              "2        CCT3  ...  It can be considered as the first map of the V...\n",
              "3        CCT4  ...  According to the ''hydraulic geometry'' approa...\n",
              "4        CCT5  ...  Historians ask for the motivation and interest...\n",
              "..        ...  ...                                                ...\n",
              "995    CCT996  ...  In contrast, in the NECOSAD study, the authors...\n",
              "996    CCT997  ...  Oxaliplatin can cause acute and chronic neurot...\n",
              "997    CCT998  ...  The finding that neurotoxicity influences the ...\n",
              "998    CCT999  ...  The finding that neurotoxicity influences the ...\n",
              "999   CCT1000  ...  The post-treatment survivorship can be a distr...\n",
              "\n",
              "[1000 rows x 7 columns]"
            ]
          },
          "metadata": {
            "tags": []
          },
          "execution_count": 92
        }
      ]
    },
    {
      "cell_type": "code",
      "metadata": {
        "colab": {
          "base_uri": "https://localhost:8080/",
          "height": 1000
        },
        "id": "moemIVy9VA8b",
        "outputId": "bc5261fa-f004-4f41-90d1-e389769d6342"
      },
      "source": [
        "testdf"
      ],
      "execution_count": null,
      "outputs": [
        {
          "output_type": "execute_result",
          "data": {
            "text/html": [
              "<div>\n",
              "<style scoped>\n",
              "    .dataframe tbody tr th:only-of-type {\n",
              "        vertical-align: middle;\n",
              "    }\n",
              "\n",
              "    .dataframe tbody tr th {\n",
              "        vertical-align: top;\n",
              "    }\n",
              "\n",
              "    .dataframe thead th {\n",
              "        text-align: right;\n",
              "    }\n",
              "</style>\n",
              "<table border=\"1\" class=\"dataframe\">\n",
              "  <thead>\n",
              "    <tr style=\"text-align: right;\">\n",
              "      <th></th>\n",
              "      <th>unique_id</th>\n",
              "      <th>core_id</th>\n",
              "      <th>citing_title</th>\n",
              "      <th>citing_author</th>\n",
              "      <th>cited_title</th>\n",
              "      <th>cited_author</th>\n",
              "      <th>citation_context</th>\n",
              "      <th>citation length</th>\n",
              "      <th>cited title length</th>\n",
              "      <th>self_citation</th>\n",
              "      <th>tfidf_titles</th>\n",
              "      <th>tfidf_citance_citedtitle</th>\n",
              "      <th>citance cited title keyword match</th>\n",
              "      <th>citing cited titles keyword match</th>\n",
              "      <th>wmd_titles</th>\n",
              "      <th>wmd_citance_cited_title</th>\n",
              "      <th>vad_pos</th>\n",
              "      <th>vad_neg</th>\n",
              "      <th>vad_neu</th>\n",
              "      <th>vad_com</th>\n",
              "    </tr>\n",
              "  </thead>\n",
              "  <tbody>\n",
              "    <tr>\n",
              "      <th>0</th>\n",
              "      <td>CCT1</td>\n",
              "      <td>81153632</td>\n",
              "      <td>Two steps back, one step forward: reconstructi...</td>\n",
              "      <td>Severin Hohensinner</td>\n",
              "      <td>The English village community examined in its ...</td>\n",
              "      <td>Seebohm</td>\n",
              "      <td>In historical research, regressive methods mov...</td>\n",
              "      <td>44</td>\n",
              "      <td>29</td>\n",
              "      <td>False</td>\n",
              "      <td>0.000000</td>\n",
              "      <td>0.000000</td>\n",
              "      <td>0</td>\n",
              "      <td>0</td>\n",
              "      <td>3.295124</td>\n",
              "      <td>3.325429</td>\n",
              "      <td>0.063</td>\n",
              "      <td>0.000</td>\n",
              "      <td>0.937</td>\n",
              "      <td>0.4404</td>\n",
              "    </tr>\n",
              "    <tr>\n",
              "      <th>1</th>\n",
              "      <td>CCT2</td>\n",
              "      <td>81153632</td>\n",
              "      <td>Two steps back, one step forward: reconstructi...</td>\n",
              "      <td>Severin Hohensinner</td>\n",
              "      <td>Die italienischen Begr nder der Wiener Donauka...</td>\n",
              "      <td>Slezak</td>\n",
              "      <td>For example, a new cut-off channel at the Dona...</td>\n",
              "      <td>35</td>\n",
              "      <td>7</td>\n",
              "      <td>False</td>\n",
              "      <td>0.000000</td>\n",
              "      <td>0.000000</td>\n",
              "      <td>0</td>\n",
              "      <td>0</td>\n",
              "      <td>3.798572</td>\n",
              "      <td>3.951583</td>\n",
              "      <td>0.000</td>\n",
              "      <td>0.000</td>\n",
              "      <td>1.000</td>\n",
              "      <td>0.0000</td>\n",
              "    </tr>\n",
              "    <tr>\n",
              "      <th>2</th>\n",
              "      <td>CCT3</td>\n",
              "      <td>81153632</td>\n",
              "      <td>Two steps back, one step forward: reconstructi...</td>\n",
              "      <td>Severin Hohensinner</td>\n",
              "      <td>Wien im Bild historischer Karten Die Entwicklu...</td>\n",
              "      <td>Opll</td>\n",
              "      <td>It can be considered as the first map of the V...</td>\n",
              "      <td>26</td>\n",
              "      <td>15</td>\n",
              "      <td>False</td>\n",
              "      <td>0.000000</td>\n",
              "      <td>0.000000</td>\n",
              "      <td>0</td>\n",
              "      <td>0</td>\n",
              "      <td>4.096225</td>\n",
              "      <td>4.221632</td>\n",
              "      <td>0.000</td>\n",
              "      <td>0.000</td>\n",
              "      <td>1.000</td>\n",
              "      <td>0.0000</td>\n",
              "    </tr>\n",
              "    <tr>\n",
              "      <th>3</th>\n",
              "      <td>CCT4</td>\n",
              "      <td>81153632</td>\n",
              "      <td>Two steps back, one step forward: reconstructi...</td>\n",
              "      <td>Severin Hohensinner</td>\n",
              "      <td>The hydraulic geometry of stream channels and ...</td>\n",
              "      <td>Leopold</td>\n",
              "      <td>According to the ''hydraulic geometry'' approa...</td>\n",
              "      <td>19</td>\n",
              "      <td>10</td>\n",
              "      <td>False</td>\n",
              "      <td>0.000000</td>\n",
              "      <td>0.130481</td>\n",
              "      <td>1</td>\n",
              "      <td>0</td>\n",
              "      <td>3.319990</td>\n",
              "      <td>2.602660</td>\n",
              "      <td>0.000</td>\n",
              "      <td>0.000</td>\n",
              "      <td>1.000</td>\n",
              "      <td>0.0000</td>\n",
              "    </tr>\n",
              "    <tr>\n",
              "      <th>4</th>\n",
              "      <td>CCT5</td>\n",
              "      <td>81153632</td>\n",
              "      <td>Two steps back, one step forward: reconstructi...</td>\n",
              "      <td>Severin Hohensinner</td>\n",
              "      <td>From memory to written record</td>\n",
              "      <td>Clanchy</td>\n",
              "      <td>Historians ask for the motivation and interest...</td>\n",
              "      <td>21</td>\n",
              "      <td>5</td>\n",
              "      <td>False</td>\n",
              "      <td>0.000000</td>\n",
              "      <td>0.000000</td>\n",
              "      <td>0</td>\n",
              "      <td>0</td>\n",
              "      <td>3.342970</td>\n",
              "      <td>3.444389</td>\n",
              "      <td>0.256</td>\n",
              "      <td>0.000</td>\n",
              "      <td>0.744</td>\n",
              "      <td>0.6369</td>\n",
              "    </tr>\n",
              "    <tr>\n",
              "      <th>...</th>\n",
              "      <td>...</td>\n",
              "      <td>...</td>\n",
              "      <td>...</td>\n",
              "      <td>...</td>\n",
              "      <td>...</td>\n",
              "      <td>...</td>\n",
              "      <td>...</td>\n",
              "      <td>...</td>\n",
              "      <td>...</td>\n",
              "      <td>...</td>\n",
              "      <td>...</td>\n",
              "      <td>...</td>\n",
              "      <td>...</td>\n",
              "      <td>...</td>\n",
              "      <td>...</td>\n",
              "      <td>...</td>\n",
              "      <td>...</td>\n",
              "      <td>...</td>\n",
              "      <td>...</td>\n",
              "      <td>...</td>\n",
              "    </tr>\n",
              "    <tr>\n",
              "      <th>995</th>\n",
              "      <td>CCT996</td>\n",
              "      <td>187054964</td>\n",
              "      <td>Clinical Study Peritoneal Dialysis as a First ...</td>\n",
              "      <td>Roberto Barone</td>\n",
              "      <td>Survival of functionally anuric patients on au...</td>\n",
              "      <td>Brown</td>\n",
              "      <td>In contrast, in the NECOSAD study, the authors...</td>\n",
              "      <td>62</td>\n",
              "      <td>14</td>\n",
              "      <td>False</td>\n",
              "      <td>0.151778</td>\n",
              "      <td>0.401136</td>\n",
              "      <td>5</td>\n",
              "      <td>1</td>\n",
              "      <td>2.510665</td>\n",
              "      <td>2.338875</td>\n",
              "      <td>0.034</td>\n",
              "      <td>0.089</td>\n",
              "      <td>0.877</td>\n",
              "      <td>-0.5719</td>\n",
              "    </tr>\n",
              "    <tr>\n",
              "      <th>996</th>\n",
              "      <td>CCT997</td>\n",
              "      <td>189217163</td>\n",
              "      <td>The trajectory of neurotoxic side effects' imp...</td>\n",
              "      <td>Jenny Drott</td>\n",
              "      <td>Incidence prevalence and predictors of chemoth...</td>\n",
              "      <td>Seretny</td>\n",
              "      <td>Oxaliplatin can cause acute and chronic neurot...</td>\n",
              "      <td>17</td>\n",
              "      <td>15</td>\n",
              "      <td>False</td>\n",
              "      <td>0.000000</td>\n",
              "      <td>0.000000</td>\n",
              "      <td>0</td>\n",
              "      <td>0</td>\n",
              "      <td>3.750646</td>\n",
              "      <td>3.908886</td>\n",
              "      <td>0.000</td>\n",
              "      <td>0.153</td>\n",
              "      <td>0.847</td>\n",
              "      <td>-0.4404</td>\n",
              "    </tr>\n",
              "    <tr>\n",
              "      <th>997</th>\n",
              "      <td>CCT998</td>\n",
              "      <td>189217163</td>\n",
              "      <td>The trajectory of neurotoxic side effects' imp...</td>\n",
              "      <td>Jenny Drott</td>\n",
              "      <td>Long term course of oxaliplatin induced polyne...</td>\n",
              "      <td>Briani</td>\n",
              "      <td>The finding that neurotoxicity influences the ...</td>\n",
              "      <td>52</td>\n",
              "      <td>14</td>\n",
              "      <td>False</td>\n",
              "      <td>0.059930</td>\n",
              "      <td>0.051425</td>\n",
              "      <td>2</td>\n",
              "      <td>1</td>\n",
              "      <td>3.091636</td>\n",
              "      <td>2.975275</td>\n",
              "      <td>0.113</td>\n",
              "      <td>0.000</td>\n",
              "      <td>0.887</td>\n",
              "      <td>0.7469</td>\n",
              "    </tr>\n",
              "    <tr>\n",
              "      <th>998</th>\n",
              "      <td>CCT999</td>\n",
              "      <td>189217163</td>\n",
              "      <td>The trajectory of neurotoxic side effects' imp...</td>\n",
              "      <td>Jenny Drott</td>\n",
              "      <td>Impact of oxaliplatin induced neuropathy a pat...</td>\n",
              "      <td>Bennett</td>\n",
              "      <td>The finding that neurotoxicity influences the ...</td>\n",
              "      <td>52</td>\n",
              "      <td>8</td>\n",
              "      <td>False</td>\n",
              "      <td>0.078745</td>\n",
              "      <td>0.068955</td>\n",
              "      <td>1</td>\n",
              "      <td>0</td>\n",
              "      <td>3.390623</td>\n",
              "      <td>3.499854</td>\n",
              "      <td>0.113</td>\n",
              "      <td>0.000</td>\n",
              "      <td>0.887</td>\n",
              "      <td>0.7469</td>\n",
              "    </tr>\n",
              "    <tr>\n",
              "      <th>999</th>\n",
              "      <td>CCT1000</td>\n",
              "      <td>189217163</td>\n",
              "      <td>The trajectory of neurotoxic side effects' imp...</td>\n",
              "      <td>Jenny Drott</td>\n",
              "      <td>Mental health outcomes during colorectal cance...</td>\n",
              "      <td>Mosher</td>\n",
              "      <td>The post-treatment survivorship can be a distr...</td>\n",
              "      <td>17</td>\n",
              "      <td>12</td>\n",
              "      <td>False</td>\n",
              "      <td>0.000000</td>\n",
              "      <td>0.115216</td>\n",
              "      <td>1</td>\n",
              "      <td>0</td>\n",
              "      <td>3.808744</td>\n",
              "      <td>2.992806</td>\n",
              "      <td>0.000</td>\n",
              "      <td>0.355</td>\n",
              "      <td>0.645</td>\n",
              "      <td>-0.7717</td>\n",
              "    </tr>\n",
              "  </tbody>\n",
              "</table>\n",
              "<p>1000 rows × 20 columns</p>\n",
              "</div>"
            ],
            "text/plain": [
              "    unique_id    core_id  ... vad_neu vad_com\n",
              "0        CCT1   81153632  ...   0.937  0.4404\n",
              "1        CCT2   81153632  ...   1.000  0.0000\n",
              "2        CCT3   81153632  ...   1.000  0.0000\n",
              "3        CCT4   81153632  ...   1.000  0.0000\n",
              "4        CCT5   81153632  ...   0.744  0.6369\n",
              "..        ...        ...  ...     ...     ...\n",
              "995    CCT996  187054964  ...   0.877 -0.5719\n",
              "996    CCT997  189217163  ...   0.847 -0.4404\n",
              "997    CCT998  189217163  ...   0.887  0.7469\n",
              "998    CCT999  189217163  ...   0.887  0.7469\n",
              "999   CCT1000  189217163  ...   0.645 -0.7717\n",
              "\n",
              "[1000 rows x 20 columns]"
            ]
          },
          "metadata": {
            "tags": []
          },
          "execution_count": 91
        }
      ]
    },
    {
      "cell_type": "code",
      "metadata": {
        "id": "c3aIl_hS2yHi"
      },
      "source": [
        "testdf.to_csv('/content/test_full_titles_features.csv')"
      ],
      "execution_count": null,
      "outputs": []
    },
    {
      "cell_type": "code",
      "metadata": {
        "colab": {
          "base_uri": "https://localhost:8080/"
        },
        "id": "Xae5pswtEBpI",
        "outputId": "fe3794d2-2310-44c3-a098-e06b506dc87c"
      },
      "source": [
        "df.iloc[2]"
      ],
      "execution_count": null,
      "outputs": [
        {
          "output_type": "execute_result",
          "data": {
            "text/plain": [
              "unique_id                                                                          CC3\n",
              "core_id                                                                      158977742\n",
              "citing_title                         Ontology-Based Recommendation of Editorial Pro...\n",
              "citing_author                                                 Thiviyan Thanapalasingam\n",
              "cited_title                          Klink-2: Integrating Multiple Web Sources to G...\n",
              "cited_author                                                                   Osborne\n",
              "citation_context                     In order to do so, we characterized all SN pub...\n",
              "citation_influence_label                                                             0\n",
              "citation length                                                                     32\n",
              "cited title length                                                                  10\n",
              "self_citation                                                                    False\n",
              "tfidf_titles                                                                         0\n",
              "tfidf_citance_citedtitle                                                             0\n",
              "citance cited title keyword match                                                    0\n",
              "citing cited titles keyword match                                                    0\n",
              "Name: 2, dtype: object"
            ]
          },
          "metadata": {
            "tags": []
          },
          "execution_count": 46
        }
      ]
    },
    {
      "cell_type": "code",
      "metadata": {
        "colab": {
          "base_uri": "https://localhost:8080/",
          "height": 35
        },
        "id": "vwbWJASZ269U",
        "outputId": "9df000df-d63f-41c0-db53-10ee77727edb"
      },
      "source": [
        "df.iloc[2]['citing_title']"
      ],
      "execution_count": null,
      "outputs": [
        {
          "output_type": "execute_result",
          "data": {
            "application/vnd.google.colaboratory.intrinsic+json": {
              "type": "string"
            },
            "text/plain": [
              "'Ontology-Based Recommendation of Editorial Products'"
            ]
          },
          "metadata": {
            "tags": []
          },
          "execution_count": 47
        }
      ]
    },
    {
      "cell_type": "code",
      "metadata": {
        "colab": {
          "base_uri": "https://localhost:8080/",
          "height": 35
        },
        "id": "IyPOLuX62-cf",
        "outputId": "5aeed364-afb7-4b99-8722-3bf7e69466c4"
      },
      "source": [
        "df.iloc[2]['cited_title']"
      ],
      "execution_count": null,
      "outputs": [
        {
          "output_type": "execute_result",
          "data": {
            "application/vnd.google.colaboratory.intrinsic+json": {
              "type": "string"
            },
            "text/plain": [
              "'Klink-2: Integrating Multiple Web Sources to Generate Semantic Topic Networks'"
            ]
          },
          "metadata": {
            "tags": []
          },
          "execution_count": 48
        }
      ]
    },
    {
      "cell_type": "code",
      "metadata": {
        "colab": {
          "base_uri": "https://localhost:8080/",
          "height": 52
        },
        "id": "wNaYNtag3ERi",
        "outputId": "418ab378-efff-4fed-e6c3-f6ed78e01ee5"
      },
      "source": [
        "df.iloc[2]['citation_context']"
      ],
      "execution_count": null,
      "outputs": [
        {
          "output_type": "execute_result",
          "data": {
            "application/vnd.google.colaboratory.intrinsic+json": {
              "type": "string"
            },
            "text/plain": [
              "'In order to do so, we characterized all SN publications according to their associated research topics by exploiting the Computer Science Ontology (CSO), a large-scale automatically generated taxonomy of research areas #AUTHOR_TAG'"
            ]
          },
          "metadata": {
            "tags": []
          },
          "execution_count": 49
        }
      ]
    },
    {
      "cell_type": "markdown",
      "metadata": {
        "id": "FdPjY9k5u0_f"
      },
      "source": [
        "# **Training ML models**"
      ]
    },
    {
      "cell_type": "code",
      "metadata": {
        "id": "UhuA5sxCksIg"
      },
      "source": [
        "df_tr = pd.read_csv('/content/train_features_orig.csv')\n",
        "df_te = pd.read_csv('/content/test_features_orig.csv')\n",
        "# df_sbert_tr = pd.read_csv('/content/train_features_orig.csv')\n",
        "# df_sbert_te = pd.read_csv('/content/test_features_orig.csv')"
      ],
      "execution_count": null,
      "outputs": []
    },
    {
      "cell_type": "code",
      "metadata": {
        "id": "O8tS3X04m8Vw"
      },
      "source": [
        "df_tr = df_tr.drop('Unnamed: 0',axis='columns')\n",
        "df_te = df_te.drop('Unnamed: 0',axis='columns')"
      ],
      "execution_count": null,
      "outputs": []
    },
    {
      "cell_type": "code",
      "metadata": {
        "colab": {
          "base_uri": "https://localhost:8080/",
          "height": 489
        },
        "id": "HqtiZiFAXO6n",
        "outputId": "8bd52b62-f698-40cc-b8d4-e9f15d9b5a99"
      },
      "source": [
        "df_tr[df_tr.columns[2:]]"
      ],
      "execution_count": null,
      "outputs": [
        {
          "output_type": "execute_result",
          "data": {
            "text/html": [
              "<div>\n",
              "<style scoped>\n",
              "    .dataframe tbody tr th:only-of-type {\n",
              "        vertical-align: middle;\n",
              "    }\n",
              "\n",
              "    .dataframe tbody tr th {\n",
              "        vertical-align: top;\n",
              "    }\n",
              "\n",
              "    .dataframe thead th {\n",
              "        text-align: right;\n",
              "    }\n",
              "</style>\n",
              "<table border=\"1\" class=\"dataframe\">\n",
              "  <thead>\n",
              "    <tr style=\"text-align: right;\">\n",
              "      <th></th>\n",
              "      <th>tfidf</th>\n",
              "      <th>wmd</th>\n",
              "      <th>vad_pos</th>\n",
              "      <th>vad_neg</th>\n",
              "      <th>vad_neu</th>\n",
              "      <th>vad_com</th>\n",
              "      <th>citation length</th>\n",
              "      <th>cited title length</th>\n",
              "      <th>self_citation</th>\n",
              "      <th>tfidf_citance_citedtitle</th>\n",
              "      <th>citance cited title keyword match</th>\n",
              "      <th>citing cited titles keyword match</th>\n",
              "      <th>wmd_titles</th>\n",
              "      <th>wmd_citance_cited_title</th>\n",
              "    </tr>\n",
              "  </thead>\n",
              "  <tbody>\n",
              "    <tr>\n",
              "      <th>0</th>\n",
              "      <td>0.0</td>\n",
              "      <td>0.380332</td>\n",
              "      <td>0.118</td>\n",
              "      <td>0.000</td>\n",
              "      <td>0.882</td>\n",
              "      <td>0.2500</td>\n",
              "      <td>16.0</td>\n",
              "      <td>7.0</td>\n",
              "      <td>False</td>\n",
              "      <td>0.136276</td>\n",
              "      <td>1.0</td>\n",
              "      <td>0.0</td>\n",
              "      <td>3.926372</td>\n",
              "      <td>3.020933</td>\n",
              "    </tr>\n",
              "    <tr>\n",
              "      <th>1</th>\n",
              "      <td>0.0</td>\n",
              "      <td>0.497124</td>\n",
              "      <td>0.071</td>\n",
              "      <td>0.000</td>\n",
              "      <td>0.929</td>\n",
              "      <td>0.2500</td>\n",
              "      <td>27.0</td>\n",
              "      <td>5.0</td>\n",
              "      <td>False</td>\n",
              "      <td>0.061214</td>\n",
              "      <td>1.0</td>\n",
              "      <td>0.0</td>\n",
              "      <td>3.795031</td>\n",
              "      <td>3.535336</td>\n",
              "    </tr>\n",
              "    <tr>\n",
              "      <th>2</th>\n",
              "      <td>0.0</td>\n",
              "      <td>0.429995</td>\n",
              "      <td>0.000</td>\n",
              "      <td>0.086</td>\n",
              "      <td>0.914</td>\n",
              "      <td>-0.4404</td>\n",
              "      <td>32.0</td>\n",
              "      <td>10.0</td>\n",
              "      <td>False</td>\n",
              "      <td>0.000000</td>\n",
              "      <td>0.0</td>\n",
              "      <td>0.0</td>\n",
              "      <td>3.806394</td>\n",
              "      <td>3.252318</td>\n",
              "    </tr>\n",
              "    <tr>\n",
              "      <th>3</th>\n",
              "      <td>0.0</td>\n",
              "      <td>0.351009</td>\n",
              "      <td>0.143</td>\n",
              "      <td>0.000</td>\n",
              "      <td>0.857</td>\n",
              "      <td>0.8020</td>\n",
              "      <td>59.0</td>\n",
              "      <td>8.0</td>\n",
              "      <td>False</td>\n",
              "      <td>0.121344</td>\n",
              "      <td>0.0</td>\n",
              "      <td>0.0</td>\n",
              "      <td>3.666979</td>\n",
              "      <td>3.303668</td>\n",
              "    </tr>\n",
              "    <tr>\n",
              "      <th>4</th>\n",
              "      <td>0.0</td>\n",
              "      <td>0.363511</td>\n",
              "      <td>0.068</td>\n",
              "      <td>0.000</td>\n",
              "      <td>0.932</td>\n",
              "      <td>0.4019</td>\n",
              "      <td>38.0</td>\n",
              "      <td>9.0</td>\n",
              "      <td>False</td>\n",
              "      <td>0.000000</td>\n",
              "      <td>0.0</td>\n",
              "      <td>0.0</td>\n",
              "      <td>3.474603</td>\n",
              "      <td>3.466395</td>\n",
              "    </tr>\n",
              "    <tr>\n",
              "      <th>...</th>\n",
              "      <td>...</td>\n",
              "      <td>...</td>\n",
              "      <td>...</td>\n",
              "      <td>...</td>\n",
              "      <td>...</td>\n",
              "      <td>...</td>\n",
              "      <td>...</td>\n",
              "      <td>...</td>\n",
              "      <td>...</td>\n",
              "      <td>...</td>\n",
              "      <td>...</td>\n",
              "      <td>...</td>\n",
              "      <td>...</td>\n",
              "      <td>...</td>\n",
              "    </tr>\n",
              "    <tr>\n",
              "      <th>3460</th>\n",
              "      <td>0.0</td>\n",
              "      <td>0.426368</td>\n",
              "      <td>0.057</td>\n",
              "      <td>0.000</td>\n",
              "      <td>0.943</td>\n",
              "      <td>0.7050</td>\n",
              "      <td>NaN</td>\n",
              "      <td>NaN</td>\n",
              "      <td>NaN</td>\n",
              "      <td>NaN</td>\n",
              "      <td>NaN</td>\n",
              "      <td>NaN</td>\n",
              "      <td>NaN</td>\n",
              "      <td>NaN</td>\n",
              "    </tr>\n",
              "    <tr>\n",
              "      <th>3461</th>\n",
              "      <td>0.0</td>\n",
              "      <td>0.529257</td>\n",
              "      <td>0.018</td>\n",
              "      <td>0.026</td>\n",
              "      <td>0.956</td>\n",
              "      <td>-0.1531</td>\n",
              "      <td>NaN</td>\n",
              "      <td>NaN</td>\n",
              "      <td>NaN</td>\n",
              "      <td>NaN</td>\n",
              "      <td>NaN</td>\n",
              "      <td>NaN</td>\n",
              "      <td>NaN</td>\n",
              "      <td>NaN</td>\n",
              "    </tr>\n",
              "    <tr>\n",
              "      <th>3462</th>\n",
              "      <td>0.0</td>\n",
              "      <td>0.551311</td>\n",
              "      <td>0.000</td>\n",
              "      <td>0.051</td>\n",
              "      <td>0.949</td>\n",
              "      <td>-0.7783</td>\n",
              "      <td>NaN</td>\n",
              "      <td>NaN</td>\n",
              "      <td>NaN</td>\n",
              "      <td>NaN</td>\n",
              "      <td>NaN</td>\n",
              "      <td>NaN</td>\n",
              "      <td>NaN</td>\n",
              "      <td>NaN</td>\n",
              "    </tr>\n",
              "    <tr>\n",
              "      <th>3463</th>\n",
              "      <td>0.0</td>\n",
              "      <td>0.549680</td>\n",
              "      <td>0.000</td>\n",
              "      <td>0.000</td>\n",
              "      <td>1.000</td>\n",
              "      <td>0.0000</td>\n",
              "      <td>NaN</td>\n",
              "      <td>NaN</td>\n",
              "      <td>NaN</td>\n",
              "      <td>NaN</td>\n",
              "      <td>NaN</td>\n",
              "      <td>NaN</td>\n",
              "      <td>NaN</td>\n",
              "      <td>NaN</td>\n",
              "    </tr>\n",
              "    <tr>\n",
              "      <th>3464</th>\n",
              "      <td>0.0</td>\n",
              "      <td>0.404021</td>\n",
              "      <td>0.000</td>\n",
              "      <td>0.029</td>\n",
              "      <td>0.971</td>\n",
              "      <td>-0.5574</td>\n",
              "      <td>NaN</td>\n",
              "      <td>NaN</td>\n",
              "      <td>NaN</td>\n",
              "      <td>NaN</td>\n",
              "      <td>NaN</td>\n",
              "      <td>NaN</td>\n",
              "      <td>NaN</td>\n",
              "      <td>NaN</td>\n",
              "    </tr>\n",
              "  </tbody>\n",
              "</table>\n",
              "<p>3465 rows × 14 columns</p>\n",
              "</div>"
            ],
            "text/plain": [
              "      tfidf       wmd  ...  wmd_titles  wmd_citance_cited_title\n",
              "0       0.0  0.380332  ...    3.926372                 3.020933\n",
              "1       0.0  0.497124  ...    3.795031                 3.535336\n",
              "2       0.0  0.429995  ...    3.806394                 3.252318\n",
              "3       0.0  0.351009  ...    3.666979                 3.303668\n",
              "4       0.0  0.363511  ...    3.474603                 3.466395\n",
              "...     ...       ...  ...         ...                      ...\n",
              "3460    0.0  0.426368  ...         NaN                      NaN\n",
              "3461    0.0  0.529257  ...         NaN                      NaN\n",
              "3462    0.0  0.551311  ...         NaN                      NaN\n",
              "3463    0.0  0.549680  ...         NaN                      NaN\n",
              "3464    0.0  0.404021  ...         NaN                      NaN\n",
              "\n",
              "[3465 rows x 14 columns]"
            ]
          },
          "metadata": {
            "tags": []
          },
          "execution_count": 10
        }
      ]
    },
    {
      "cell_type": "code",
      "metadata": {
        "id": "J5BUGmsGlRbr"
      },
      "source": [
        "df_tr = df_tr.replace([np.inf, -np.inf], np.nan)\n",
        "df_tr = df_tr.dropna()\n",
        "\n",
        "y = df_tr['label'] \n",
        "X = df_tr[df_tr.columns[2:]]\n",
        "\n",
        "# Split dataset into training set and test set\n",
        "x_train, x_test, y_train, y_test = train_test_split(X, y, test_size=0.3)"
      ],
      "execution_count": null,
      "outputs": []
    },
    {
      "cell_type": "code",
      "metadata": {
        "id": "CaerjvbLqWoY"
      },
      "source": [
        "classifier_names = [\"Logistic Regression\", \"KNN\", \"Random Forest\",\"SVM\",\"Decision Tree\",\"xgboost\"]\n",
        "\n",
        "classifiers = [LogisticRegression(), KNeighborsClassifier(), RandomForestClassifier(), LinearSVC(), DecisionTreeClassifier(), XGBClassifier()]\n",
        "\n",
        "zipped_clf = zip(classifier_names,classifiers)"
      ],
      "execution_count": null,
      "outputs": []
    },
    {
      "cell_type": "code",
      "metadata": {
        "id": "Pr6cMGObrr_e"
      },
      "source": [
        "def classifier(classifier, t_train, c_train, t_test, c_test):\n",
        "    result = []\n",
        "    for n,c in classifier:\n",
        "        checker_pipeline = Pipeline([\n",
        "            ('standardize', StandardScaler()),                         \n",
        "            ('classifier', c)\n",
        "        ])\n",
        "        print(\"Validation result for {}\".format(n))\n",
        "        print(c)\n",
        "        clf_acc = fit_classifier(checker_pipeline, t_train, c_train, t_test,c_test)\n",
        "        result.append((n,clf_acc))\n",
        "    return result"
      ],
      "execution_count": null,
      "outputs": []
    },
    {
      "cell_type": "code",
      "metadata": {
        "id": "hsXdAoHArs43"
      },
      "source": [
        "def fit_classifier(pipeline, x_train, y_train, x_test, y_test):\n",
        "    model_fit = pipeline.fit(x_train, y_train)\n",
        "    y_pred = model_fit.predict(x_test)\n",
        "    accuracy = metrics.accuracy_score(y_test, y_pred)\n",
        "    f1_macro = metrics.f1_score(y_test, y_pred,average='macro')\n",
        "    print(\"accuracy score: {0:.2f}%\".format(accuracy*100))\n",
        "    print(\"f1 score: {0:.3f}%\".format(f1_macro*100))\n",
        "    return (accuracy,f1_macro)"
      ],
      "execution_count": null,
      "outputs": []
    },
    {
      "cell_type": "code",
      "metadata": {
        "colab": {
          "base_uri": "https://localhost:8080/"
        },
        "id": "NuHb_qJfsEzZ",
        "outputId": "42991901-e81c-4aa5-911f-f45735d4fbf0"
      },
      "source": [
        "result = classifier(zipped_clf, x_train, y_train, x_test, y_test)"
      ],
      "execution_count": null,
      "outputs": [
        {
          "output_type": "stream",
          "text": [
            "Validation result for Logistic Regression\n",
            "LogisticRegression(C=1.0, class_weight=None, dual=False, fit_intercept=True,\n",
            "                   intercept_scaling=1, l1_ratio=None, max_iter=100,\n",
            "                   multi_class='auto', n_jobs=None, penalty='l2',\n",
            "                   random_state=None, solver='lbfgs', tol=0.0001, verbose=0,\n",
            "                   warm_start=False)\n",
            "accuracy score: 50.11%\n",
            "f1 score: 49.130%\n",
            "Validation result for KNN\n",
            "KNeighborsClassifier(algorithm='auto', leaf_size=30, metric='minkowski',\n",
            "                     metric_params=None, n_jobs=None, n_neighbors=5, p=2,\n",
            "                     weights='uniform')\n",
            "accuracy score: 54.00%\n",
            "f1 score: 53.704%\n",
            "Validation result for Random Forest\n",
            "RandomForestClassifier(bootstrap=True, ccp_alpha=0.0, class_weight=None,\n",
            "                       criterion='gini', max_depth=None, max_features='auto',\n",
            "                       max_leaf_nodes=None, max_samples=None,\n",
            "                       min_impurity_decrease=0.0, min_impurity_split=None,\n",
            "                       min_samples_leaf=1, min_samples_split=2,\n",
            "                       min_weight_fraction_leaf=0.0, n_estimators=100,\n",
            "                       n_jobs=None, oob_score=False, random_state=None,\n",
            "                       verbose=0, warm_start=False)\n",
            "accuracy score: 53.33%\n",
            "f1 score: 53.096%\n",
            "Validation result for SVM\n",
            "LinearSVC(C=1.0, class_weight=None, dual=True, fit_intercept=True,\n",
            "          intercept_scaling=1, loss='squared_hinge', max_iter=1000,\n",
            "          multi_class='ovr', penalty='l2', random_state=None, tol=0.0001,\n",
            "          verbose=0)\n",
            "accuracy score: 50.11%\n",
            "f1 score: 49.130%\n",
            "Validation result for Decision Tree\n",
            "DecisionTreeClassifier(ccp_alpha=0.0, class_weight=None, criterion='gini',\n",
            "                       max_depth=None, max_features=None, max_leaf_nodes=None,\n",
            "                       min_impurity_decrease=0.0, min_impurity_split=None,\n",
            "                       min_samples_leaf=1, min_samples_split=2,\n",
            "                       min_weight_fraction_leaf=0.0, presort='deprecated',\n",
            "                       random_state=None, splitter='best')\n"
          ],
          "name": "stdout"
        },
        {
          "output_type": "stream",
          "text": [
            "/usr/local/lib/python3.7/dist-packages/sklearn/svm/_base.py:947: ConvergenceWarning: Liblinear failed to converge, increase the number of iterations.\n",
            "  \"the number of iterations.\", ConvergenceWarning)\n"
          ],
          "name": "stderr"
        },
        {
          "output_type": "stream",
          "text": [
            "accuracy score: 55.78%\n",
            "f1 score: 55.707%\n",
            "Validation result for xgboost\n",
            "XGBClassifier(base_score=0.5, booster='gbtree', colsample_bylevel=1,\n",
            "              colsample_bynode=1, colsample_bytree=1, gamma=0,\n",
            "              learning_rate=0.1, max_delta_step=0, max_depth=3,\n",
            "              min_child_weight=1, missing=None, n_estimators=100, n_jobs=1,\n",
            "              nthread=None, objective='binary:logistic', random_state=0,\n",
            "              reg_alpha=0, reg_lambda=1, scale_pos_weight=1, seed=None,\n",
            "              silent=None, subsample=1, verbosity=1)\n",
            "accuracy score: 53.33%\n",
            "f1 score: 53.152%\n"
          ],
          "name": "stdout"
        }
      ]
    },
    {
      "cell_type": "code",
      "metadata": {
        "colab": {
          "base_uri": "https://localhost:8080/",
          "height": 489
        },
        "id": "HZkn4gBoa18T",
        "outputId": "3069ccf4-dff8-4794-b4fd-92c4a600049a"
      },
      "source": [
        "df_tr[df_tr.columns[8:]]"
      ],
      "execution_count": null,
      "outputs": [
        {
          "output_type": "execute_result",
          "data": {
            "text/html": [
              "<div>\n",
              "<style scoped>\n",
              "    .dataframe tbody tr th:only-of-type {\n",
              "        vertical-align: middle;\n",
              "    }\n",
              "\n",
              "    .dataframe tbody tr th {\n",
              "        vertical-align: top;\n",
              "    }\n",
              "\n",
              "    .dataframe thead th {\n",
              "        text-align: right;\n",
              "    }\n",
              "</style>\n",
              "<table border=\"1\" class=\"dataframe\">\n",
              "  <thead>\n",
              "    <tr style=\"text-align: right;\">\n",
              "      <th></th>\n",
              "      <th>citation length</th>\n",
              "      <th>cited title length</th>\n",
              "      <th>self_citation</th>\n",
              "      <th>tfidf_titles</th>\n",
              "      <th>tfidf_citance_citedtitle</th>\n",
              "      <th>citance cited title keyword match</th>\n",
              "      <th>citing cited titles keyword match</th>\n",
              "      <th>wmd_titles</th>\n",
              "      <th>wmd_citance_cited_title</th>\n",
              "      <th>vad_pos</th>\n",
              "      <th>vad_neg</th>\n",
              "      <th>vad_neu</th>\n",
              "      <th>vad_com</th>\n",
              "    </tr>\n",
              "  </thead>\n",
              "  <tbody>\n",
              "    <tr>\n",
              "      <th>0</th>\n",
              "      <td>16</td>\n",
              "      <td>7</td>\n",
              "      <td>False</td>\n",
              "      <td>0.000000</td>\n",
              "      <td>0.136276</td>\n",
              "      <td>1</td>\n",
              "      <td>0</td>\n",
              "      <td>3.926372</td>\n",
              "      <td>3.020933</td>\n",
              "      <td>0.118</td>\n",
              "      <td>0.000</td>\n",
              "      <td>0.882</td>\n",
              "      <td>0.2500</td>\n",
              "    </tr>\n",
              "    <tr>\n",
              "      <th>1</th>\n",
              "      <td>27</td>\n",
              "      <td>5</td>\n",
              "      <td>False</td>\n",
              "      <td>0.000000</td>\n",
              "      <td>0.061214</td>\n",
              "      <td>1</td>\n",
              "      <td>0</td>\n",
              "      <td>3.795031</td>\n",
              "      <td>3.535336</td>\n",
              "      <td>0.071</td>\n",
              "      <td>0.000</td>\n",
              "      <td>0.929</td>\n",
              "      <td>0.2500</td>\n",
              "    </tr>\n",
              "    <tr>\n",
              "      <th>2</th>\n",
              "      <td>32</td>\n",
              "      <td>10</td>\n",
              "      <td>False</td>\n",
              "      <td>0.000000</td>\n",
              "      <td>0.000000</td>\n",
              "      <td>0</td>\n",
              "      <td>0</td>\n",
              "      <td>3.806394</td>\n",
              "      <td>3.252318</td>\n",
              "      <td>0.000</td>\n",
              "      <td>0.086</td>\n",
              "      <td>0.914</td>\n",
              "      <td>-0.4404</td>\n",
              "    </tr>\n",
              "    <tr>\n",
              "      <th>3</th>\n",
              "      <td>59</td>\n",
              "      <td>8</td>\n",
              "      <td>False</td>\n",
              "      <td>0.000000</td>\n",
              "      <td>0.121344</td>\n",
              "      <td>0</td>\n",
              "      <td>0</td>\n",
              "      <td>3.666979</td>\n",
              "      <td>3.303668</td>\n",
              "      <td>0.143</td>\n",
              "      <td>0.000</td>\n",
              "      <td>0.857</td>\n",
              "      <td>0.8020</td>\n",
              "    </tr>\n",
              "    <tr>\n",
              "      <th>4</th>\n",
              "      <td>38</td>\n",
              "      <td>9</td>\n",
              "      <td>False</td>\n",
              "      <td>0.000000</td>\n",
              "      <td>0.000000</td>\n",
              "      <td>0</td>\n",
              "      <td>0</td>\n",
              "      <td>3.474603</td>\n",
              "      <td>3.466395</td>\n",
              "      <td>0.068</td>\n",
              "      <td>0.000</td>\n",
              "      <td>0.932</td>\n",
              "      <td>0.4019</td>\n",
              "    </tr>\n",
              "    <tr>\n",
              "      <th>...</th>\n",
              "      <td>...</td>\n",
              "      <td>...</td>\n",
              "      <td>...</td>\n",
              "      <td>...</td>\n",
              "      <td>...</td>\n",
              "      <td>...</td>\n",
              "      <td>...</td>\n",
              "      <td>...</td>\n",
              "      <td>...</td>\n",
              "      <td>...</td>\n",
              "      <td>...</td>\n",
              "      <td>...</td>\n",
              "      <td>...</td>\n",
              "    </tr>\n",
              "    <tr>\n",
              "      <th>2995</th>\n",
              "      <td>34</td>\n",
              "      <td>6</td>\n",
              "      <td>False</td>\n",
              "      <td>0.000000</td>\n",
              "      <td>0.000000</td>\n",
              "      <td>0</td>\n",
              "      <td>0</td>\n",
              "      <td>3.676562</td>\n",
              "      <td>3.811690</td>\n",
              "      <td>0.060</td>\n",
              "      <td>0.000</td>\n",
              "      <td>0.940</td>\n",
              "      <td>0.2732</td>\n",
              "    </tr>\n",
              "    <tr>\n",
              "      <th>2996</th>\n",
              "      <td>26</td>\n",
              "      <td>33</td>\n",
              "      <td>False</td>\n",
              "      <td>0.104289</td>\n",
              "      <td>0.000000</td>\n",
              "      <td>0</td>\n",
              "      <td>2</td>\n",
              "      <td>3.034470</td>\n",
              "      <td>3.270260</td>\n",
              "      <td>0.000</td>\n",
              "      <td>0.000</td>\n",
              "      <td>1.000</td>\n",
              "      <td>0.0000</td>\n",
              "    </tr>\n",
              "    <tr>\n",
              "      <th>2997</th>\n",
              "      <td>42</td>\n",
              "      <td>5</td>\n",
              "      <td>False</td>\n",
              "      <td>0.000000</td>\n",
              "      <td>0.000000</td>\n",
              "      <td>0</td>\n",
              "      <td>0</td>\n",
              "      <td>3.571797</td>\n",
              "      <td>3.801721</td>\n",
              "      <td>0.072</td>\n",
              "      <td>0.000</td>\n",
              "      <td>0.928</td>\n",
              "      <td>0.4927</td>\n",
              "    </tr>\n",
              "    <tr>\n",
              "      <th>2998</th>\n",
              "      <td>34</td>\n",
              "      <td>6</td>\n",
              "      <td>False</td>\n",
              "      <td>0.000000</td>\n",
              "      <td>0.000000</td>\n",
              "      <td>0</td>\n",
              "      <td>0</td>\n",
              "      <td>3.324595</td>\n",
              "      <td>3.584953</td>\n",
              "      <td>0.000</td>\n",
              "      <td>0.153</td>\n",
              "      <td>0.847</td>\n",
              "      <td>-0.7003</td>\n",
              "    </tr>\n",
              "    <tr>\n",
              "      <th>2999</th>\n",
              "      <td>42</td>\n",
              "      <td>15</td>\n",
              "      <td>False</td>\n",
              "      <td>0.241299</td>\n",
              "      <td>0.137047</td>\n",
              "      <td>5</td>\n",
              "      <td>0</td>\n",
              "      <td>2.233231</td>\n",
              "      <td>2.747113</td>\n",
              "      <td>0.097</td>\n",
              "      <td>0.123</td>\n",
              "      <td>0.780</td>\n",
              "      <td>-0.3167</td>\n",
              "    </tr>\n",
              "  </tbody>\n",
              "</table>\n",
              "<p>2999 rows × 13 columns</p>\n",
              "</div>"
            ],
            "text/plain": [
              "      citation length  cited title length  ...  vad_neu  vad_com\n",
              "0                  16                   7  ...    0.882   0.2500\n",
              "1                  27                   5  ...    0.929   0.2500\n",
              "2                  32                  10  ...    0.914  -0.4404\n",
              "3                  59                   8  ...    0.857   0.8020\n",
              "4                  38                   9  ...    0.932   0.4019\n",
              "...               ...                 ...  ...      ...      ...\n",
              "2995               34                   6  ...    0.940   0.2732\n",
              "2996               26                  33  ...    1.000   0.0000\n",
              "2997               42                   5  ...    0.928   0.4927\n",
              "2998               34                   6  ...    0.847  -0.7003\n",
              "2999               42                  15  ...    0.780  -0.3167\n",
              "\n",
              "[2999 rows x 13 columns]"
            ]
          },
          "metadata": {
            "tags": []
          },
          "execution_count": 135
        }
      ]
    },
    {
      "cell_type": "code",
      "metadata": {
        "id": "83yEz4zSvqbL"
      },
      "source": [
        "y=df_tr['label'] \n",
        "df_trx = df_tr[df_tr.columns[2:]]\n",
        "data = df_trx.values[:, :]\n",
        "# perform a robust scaler transform of the dataset\n",
        "trans = StandardScaler()\n",
        "data = trans.fit_transform(data)\n",
        "# convert the array back to a dataframe\n",
        "dataset = pd.DataFrame(data)\n",
        "\n",
        "X=dataset.loc[:,:]\n",
        "\n",
        "\n",
        "# Split dataset into training set and test set\n",
        "x_train, x_test, y_train, y_test = train_test_split(X, y, test_size=400/3000)"
      ],
      "execution_count": null,
      "outputs": []
    },
    {
      "cell_type": "code",
      "metadata": {
        "colab": {
          "base_uri": "https://localhost:8080/",
          "height": 402
        },
        "id": "Q3iWP9jnc0w5",
        "outputId": "7e61aee9-317c-46b2-ca24-f3e4947f76e2"
      },
      "source": [
        "x_test"
      ],
      "execution_count": null,
      "outputs": [
        {
          "output_type": "execute_result",
          "data": {
            "text/html": [
              "<div>\n",
              "<style scoped>\n",
              "    .dataframe tbody tr th:only-of-type {\n",
              "        vertical-align: middle;\n",
              "    }\n",
              "\n",
              "    .dataframe tbody tr th {\n",
              "        vertical-align: top;\n",
              "    }\n",
              "\n",
              "    .dataframe thead th {\n",
              "        text-align: right;\n",
              "    }\n",
              "</style>\n",
              "<table border=\"1\" class=\"dataframe\">\n",
              "  <thead>\n",
              "    <tr style=\"text-align: right;\">\n",
              "      <th></th>\n",
              "      <th>0</th>\n",
              "      <th>1</th>\n",
              "      <th>2</th>\n",
              "      <th>3</th>\n",
              "      <th>4</th>\n",
              "      <th>5</th>\n",
              "      <th>6</th>\n",
              "      <th>7</th>\n",
              "      <th>8</th>\n",
              "      <th>9</th>\n",
              "      <th>10</th>\n",
              "      <th>11</th>\n",
              "      <th>12</th>\n",
              "      <th>13</th>\n",
              "    </tr>\n",
              "  </thead>\n",
              "  <tbody>\n",
              "    <tr>\n",
              "      <th>1798</th>\n",
              "      <td>-0.695435</td>\n",
              "      <td>-0.796281</td>\n",
              "      <td>-0.826416</td>\n",
              "      <td>0.403555</td>\n",
              "      <td>0.419776</td>\n",
              "      <td>-1.595360</td>\n",
              "      <td>1.478888</td>\n",
              "      <td>0.057539</td>\n",
              "      <td>0.0</td>\n",
              "      <td>0.071834</td>\n",
              "      <td>1.901203</td>\n",
              "      <td>-0.571849</td>\n",
              "      <td>0.714824</td>\n",
              "      <td>-0.950692</td>\n",
              "    </tr>\n",
              "    <tr>\n",
              "      <th>566</th>\n",
              "      <td>-0.695435</td>\n",
              "      <td>0.431014</td>\n",
              "      <td>-0.195739</td>\n",
              "      <td>0.779947</td>\n",
              "      <td>-0.325107</td>\n",
              "      <td>-0.565184</td>\n",
              "      <td>0.656257</td>\n",
              "      <td>-1.703260</td>\n",
              "      <td>0.0</td>\n",
              "      <td>-0.780506</td>\n",
              "      <td>-0.707080</td>\n",
              "      <td>-0.571849</td>\n",
              "      <td>-0.321903</td>\n",
              "      <td>-0.121960</td>\n",
              "    </tr>\n",
              "    <tr>\n",
              "      <th>1397</th>\n",
              "      <td>-0.695435</td>\n",
              "      <td>0.130414</td>\n",
              "      <td>1.668868</td>\n",
              "      <td>1.030875</td>\n",
              "      <td>-2.003872</td>\n",
              "      <td>0.221112</td>\n",
              "      <td>-0.546051</td>\n",
              "      <td>1.035760</td>\n",
              "      <td>0.0</td>\n",
              "      <td>-0.780506</td>\n",
              "      <td>-0.707080</td>\n",
              "      <td>-0.571849</td>\n",
              "      <td>0.535919</td>\n",
              "      <td>-0.230303</td>\n",
              "    </tr>\n",
              "    <tr>\n",
              "      <th>732</th>\n",
              "      <td>-0.217897</td>\n",
              "      <td>0.345628</td>\n",
              "      <td>-0.826416</td>\n",
              "      <td>1.944969</td>\n",
              "      <td>-0.536342</td>\n",
              "      <td>-2.081317</td>\n",
              "      <td>0.592977</td>\n",
              "      <td>0.448827</td>\n",
              "      <td>0.0</td>\n",
              "      <td>0.527755</td>\n",
              "      <td>1.901203</td>\n",
              "      <td>-0.571849</td>\n",
              "      <td>-0.610813</td>\n",
              "      <td>-0.889424</td>\n",
              "    </tr>\n",
              "    <tr>\n",
              "      <th>2706</th>\n",
              "      <td>-0.035481</td>\n",
              "      <td>-0.292717</td>\n",
              "      <td>-0.826416</td>\n",
              "      <td>-0.564310</td>\n",
              "      <td>1.020129</td>\n",
              "      <td>-0.300421</td>\n",
              "      <td>-1.052285</td>\n",
              "      <td>0.057539</td>\n",
              "      <td>0.0</td>\n",
              "      <td>-0.780506</td>\n",
              "      <td>-0.707080</td>\n",
              "      <td>1.733224</td>\n",
              "      <td>-0.571156</td>\n",
              "      <td>1.004129</td>\n",
              "    </tr>\n",
              "    <tr>\n",
              "      <th>...</th>\n",
              "      <td>...</td>\n",
              "      <td>...</td>\n",
              "      <td>...</td>\n",
              "      <td>...</td>\n",
              "      <td>...</td>\n",
              "      <td>...</td>\n",
              "      <td>...</td>\n",
              "      <td>...</td>\n",
              "      <td>...</td>\n",
              "      <td>...</td>\n",
              "      <td>...</td>\n",
              "      <td>...</td>\n",
              "      <td>...</td>\n",
              "      <td>...</td>\n",
              "    </tr>\n",
              "    <tr>\n",
              "      <th>1524</th>\n",
              "      <td>1.909256</td>\n",
              "      <td>3.898554</td>\n",
              "      <td>0.887378</td>\n",
              "      <td>-0.564310</td>\n",
              "      <td>-0.369577</td>\n",
              "      <td>1.015915</td>\n",
              "      <td>-0.672609</td>\n",
              "      <td>-0.138106</td>\n",
              "      <td>0.0</td>\n",
              "      <td>-0.780506</td>\n",
              "      <td>-0.707080</td>\n",
              "      <td>-0.571849</td>\n",
              "      <td>-1.719438</td>\n",
              "      <td>0.290143</td>\n",
              "    </tr>\n",
              "    <tr>\n",
              "      <th>1140</th>\n",
              "      <td>-0.695435</td>\n",
              "      <td>-0.554088</td>\n",
              "      <td>-0.291712</td>\n",
              "      <td>-0.564310</td>\n",
              "      <td>0.586540</td>\n",
              "      <td>0.519904</td>\n",
              "      <td>1.478888</td>\n",
              "      <td>-0.333750</td>\n",
              "      <td>0.0</td>\n",
              "      <td>-0.396966</td>\n",
              "      <td>-0.707080</td>\n",
              "      <td>-0.571849</td>\n",
              "      <td>1.191597</td>\n",
              "      <td>0.574241</td>\n",
              "    </tr>\n",
              "    <tr>\n",
              "      <th>68</th>\n",
              "      <td>0.087256</td>\n",
              "      <td>-0.255930</td>\n",
              "      <td>-0.826416</td>\n",
              "      <td>-0.564310</td>\n",
              "      <td>1.020129</td>\n",
              "      <td>-0.300421</td>\n",
              "      <td>0.086743</td>\n",
              "      <td>0.644471</td>\n",
              "      <td>0.0</td>\n",
              "      <td>-0.273868</td>\n",
              "      <td>0.162347</td>\n",
              "      <td>-0.571849</td>\n",
              "      <td>-0.817966</td>\n",
              "      <td>-0.387663</td>\n",
              "    </tr>\n",
              "    <tr>\n",
              "      <th>2272</th>\n",
              "      <td>0.499672</td>\n",
              "      <td>0.215731</td>\n",
              "      <td>0.064757</td>\n",
              "      <td>0.206397</td>\n",
              "      <td>-0.180577</td>\n",
              "      <td>0.158208</td>\n",
              "      <td>-0.229654</td>\n",
              "      <td>-0.725038</td>\n",
              "      <td>0.0</td>\n",
              "      <td>0.881345</td>\n",
              "      <td>-0.707080</td>\n",
              "      <td>0.580688</td>\n",
              "      <td>-0.027410</td>\n",
              "      <td>0.082145</td>\n",
              "    </tr>\n",
              "    <tr>\n",
              "      <th>2110</th>\n",
              "      <td>1.312776</td>\n",
              "      <td>-0.758505</td>\n",
              "      <td>-0.826416</td>\n",
              "      <td>-0.564310</td>\n",
              "      <td>1.020129</td>\n",
              "      <td>-0.300421</td>\n",
              "      <td>1.289050</td>\n",
              "      <td>0.644471</td>\n",
              "      <td>0.0</td>\n",
              "      <td>-0.780506</td>\n",
              "      <td>0.162347</td>\n",
              "      <td>1.733224</td>\n",
              "      <td>-0.675171</td>\n",
              "      <td>1.316756</td>\n",
              "    </tr>\n",
              "  </tbody>\n",
              "</table>\n",
              "<p>400 rows × 14 columns</p>\n",
              "</div>"
            ],
            "text/plain": [
              "            0         1         2   ...        11        12        13\n",
              "1798 -0.695435 -0.796281 -0.826416  ... -0.571849  0.714824 -0.950692\n",
              "566  -0.695435  0.431014 -0.195739  ... -0.571849 -0.321903 -0.121960\n",
              "1397 -0.695435  0.130414  1.668868  ... -0.571849  0.535919 -0.230303\n",
              "732  -0.217897  0.345628 -0.826416  ... -0.571849 -0.610813 -0.889424\n",
              "2706 -0.035481 -0.292717 -0.826416  ...  1.733224 -0.571156  1.004129\n",
              "...        ...       ...       ...  ...       ...       ...       ...\n",
              "1524  1.909256  3.898554  0.887378  ... -0.571849 -1.719438  0.290143\n",
              "1140 -0.695435 -0.554088 -0.291712  ... -0.571849  1.191597  0.574241\n",
              "68    0.087256 -0.255930 -0.826416  ... -0.571849 -0.817966 -0.387663\n",
              "2272  0.499672  0.215731  0.064757  ...  0.580688 -0.027410  0.082145\n",
              "2110  1.312776 -0.758505 -0.826416  ...  1.733224 -0.675171  1.316756\n",
              "\n",
              "[400 rows x 14 columns]"
            ]
          },
          "metadata": {
            "tags": []
          },
          "execution_count": 17
        }
      ]
    },
    {
      "cell_type": "code",
      "metadata": {
        "colab": {
          "base_uri": "https://localhost:8080/"
        },
        "id": "N8zxCibVnXTx",
        "outputId": "fb03b30c-3795-40e1-82bc-e1ad1c5cb2d9"
      },
      "source": [
        "# clf=RandomForestClassifier(n_estimators=100)\n",
        "clf = DecisionTreeClassifier()\n",
        "\n",
        "clf.fit(x_train,y_train)"
      ],
      "execution_count": null,
      "outputs": [
        {
          "output_type": "execute_result",
          "data": {
            "text/plain": [
              "DecisionTreeClassifier(ccp_alpha=0.0, class_weight=None, criterion='gini',\n",
              "                       max_depth=None, max_features=None, max_leaf_nodes=None,\n",
              "                       min_impurity_decrease=0.0, min_impurity_split=None,\n",
              "                       min_samples_leaf=1, min_samples_split=2,\n",
              "                       min_weight_fraction_leaf=0.0, presort='deprecated',\n",
              "                       random_state=None, splitter='best')"
            ]
          },
          "metadata": {
            "tags": []
          },
          "execution_count": 34
        }
      ]
    },
    {
      "cell_type": "code",
      "metadata": {
        "colab": {
          "base_uri": "https://localhost:8080/",
          "height": 402
        },
        "id": "KysqD2kUwNa1",
        "outputId": "372b0884-df9f-46b7-a66b-b0aac414fd85"
      },
      "source": [
        "dataset.loc[:,:]"
      ],
      "execution_count": null,
      "outputs": [
        {
          "output_type": "execute_result",
          "data": {
            "text/html": [
              "<div>\n",
              "<style scoped>\n",
              "    .dataframe tbody tr th:only-of-type {\n",
              "        vertical-align: middle;\n",
              "    }\n",
              "\n",
              "    .dataframe tbody tr th {\n",
              "        vertical-align: top;\n",
              "    }\n",
              "\n",
              "    .dataframe thead th {\n",
              "        text-align: right;\n",
              "    }\n",
              "</style>\n",
              "<table border=\"1\" class=\"dataframe\">\n",
              "  <thead>\n",
              "    <tr style=\"text-align: right;\">\n",
              "      <th></th>\n",
              "      <th>0</th>\n",
              "      <th>1</th>\n",
              "      <th>2</th>\n",
              "      <th>3</th>\n",
              "      <th>4</th>\n",
              "      <th>5</th>\n",
              "      <th>6</th>\n",
              "      <th>7</th>\n",
              "      <th>8</th>\n",
              "      <th>9</th>\n",
              "      <th>10</th>\n",
              "      <th>11</th>\n",
              "      <th>12</th>\n",
              "    </tr>\n",
              "  </thead>\n",
              "  <tbody>\n",
              "    <tr>\n",
              "      <th>0</th>\n",
              "      <td>-1.178844</td>\n",
              "      <td>-0.725038</td>\n",
              "      <td>0.0</td>\n",
              "      <td>-0.695435</td>\n",
              "      <td>0.835748</td>\n",
              "      <td>0.162347</td>\n",
              "      <td>-0.571849</td>\n",
              "      <td>1.177359</td>\n",
              "      <td>-0.887570</td>\n",
              "      <td>0.791406</td>\n",
              "      <td>-0.564310</td>\n",
              "      <td>-0.291754</td>\n",
              "      <td>0.344083</td>\n",
              "    </tr>\n",
              "    <tr>\n",
              "      <th>1</th>\n",
              "      <td>-0.482771</td>\n",
              "      <td>-1.116327</td>\n",
              "      <td>0.0</td>\n",
              "      <td>-0.695435</td>\n",
              "      <td>-0.054498</td>\n",
              "      <td>0.162347</td>\n",
              "      <td>-0.571849</td>\n",
              "      <td>0.896769</td>\n",
              "      <td>0.365041</td>\n",
              "      <td>0.147019</td>\n",
              "      <td>-0.564310</td>\n",
              "      <td>0.230776</td>\n",
              "      <td>0.344083</td>\n",
              "    </tr>\n",
              "    <tr>\n",
              "      <th>2</th>\n",
              "      <td>-0.166375</td>\n",
              "      <td>-0.138106</td>\n",
              "      <td>0.0</td>\n",
              "      <td>-0.695435</td>\n",
              "      <td>-0.780506</td>\n",
              "      <td>-0.707080</td>\n",
              "      <td>-0.571849</td>\n",
              "      <td>0.921043</td>\n",
              "      <td>-0.324130</td>\n",
              "      <td>-0.826416</td>\n",
              "      <td>0.977104</td>\n",
              "      <td>0.064011</td>\n",
              "      <td>-1.435781</td>\n",
              "    </tr>\n",
              "    <tr>\n",
              "      <th>3</th>\n",
              "      <td>1.542167</td>\n",
              "      <td>-0.529394</td>\n",
              "      <td>0.0</td>\n",
              "      <td>-0.695435</td>\n",
              "      <td>0.658643</td>\n",
              "      <td>-0.707080</td>\n",
              "      <td>-0.571849</td>\n",
              "      <td>0.623206</td>\n",
              "      <td>-0.199090</td>\n",
              "      <td>1.134165</td>\n",
              "      <td>-0.564310</td>\n",
              "      <td>-0.569695</td>\n",
              "      <td>1.767150</td>\n",
              "    </tr>\n",
              "    <tr>\n",
              "      <th>4</th>\n",
              "      <td>0.213301</td>\n",
              "      <td>-0.333750</td>\n",
              "      <td>0.0</td>\n",
              "      <td>-0.695435</td>\n",
              "      <td>-0.780506</td>\n",
              "      <td>-0.707080</td>\n",
              "      <td>-0.571849</td>\n",
              "      <td>0.212225</td>\n",
              "      <td>0.197163</td>\n",
              "      <td>0.105888</td>\n",
              "      <td>-0.564310</td>\n",
              "      <td>0.264128</td>\n",
              "      <td>0.735685</td>\n",
              "    </tr>\n",
              "    <tr>\n",
              "      <th>...</th>\n",
              "      <td>...</td>\n",
              "      <td>...</td>\n",
              "      <td>...</td>\n",
              "      <td>...</td>\n",
              "      <td>...</td>\n",
              "      <td>...</td>\n",
              "      <td>...</td>\n",
              "      <td>...</td>\n",
              "      <td>...</td>\n",
              "      <td>...</td>\n",
              "      <td>...</td>\n",
              "      <td>...</td>\n",
              "      <td>...</td>\n",
              "    </tr>\n",
              "    <tr>\n",
              "      <th>2994</th>\n",
              "      <td>-0.039816</td>\n",
              "      <td>-0.920683</td>\n",
              "      <td>0.0</td>\n",
              "      <td>-0.695435</td>\n",
              "      <td>-0.780506</td>\n",
              "      <td>-0.707080</td>\n",
              "      <td>-0.571849</td>\n",
              "      <td>0.643679</td>\n",
              "      <td>1.037982</td>\n",
              "      <td>-0.003794</td>\n",
              "      <td>-0.564310</td>\n",
              "      <td>0.353070</td>\n",
              "      <td>0.403893</td>\n",
              "    </tr>\n",
              "    <tr>\n",
              "      <th>2995</th>\n",
              "      <td>-0.546051</td>\n",
              "      <td>4.361712</td>\n",
              "      <td>0.0</td>\n",
              "      <td>0.530927</td>\n",
              "      <td>-0.780506</td>\n",
              "      <td>-0.707080</td>\n",
              "      <td>1.733224</td>\n",
              "      <td>-0.728049</td>\n",
              "      <td>-0.280441</td>\n",
              "      <td>-0.826416</td>\n",
              "      <td>-0.564310</td>\n",
              "      <td>1.020129</td>\n",
              "      <td>-0.300421</td>\n",
              "    </tr>\n",
              "    <tr>\n",
              "      <th>2996</th>\n",
              "      <td>0.466419</td>\n",
              "      <td>-1.116327</td>\n",
              "      <td>0.0</td>\n",
              "      <td>-0.695435</td>\n",
              "      <td>-0.780506</td>\n",
              "      <td>-0.707080</td>\n",
              "      <td>-0.571849</td>\n",
              "      <td>0.419864</td>\n",
              "      <td>1.013707</td>\n",
              "      <td>0.160730</td>\n",
              "      <td>-0.564310</td>\n",
              "      <td>0.219658</td>\n",
              "      <td>0.969769</td>\n",
              "    </tr>\n",
              "    <tr>\n",
              "      <th>2997</th>\n",
              "      <td>-0.039816</td>\n",
              "      <td>-0.920683</td>\n",
              "      <td>0.0</td>\n",
              "      <td>-0.695435</td>\n",
              "      <td>-0.780506</td>\n",
              "      <td>-0.707080</td>\n",
              "      <td>-0.571849</td>\n",
              "      <td>-0.108243</td>\n",
              "      <td>0.485862</td>\n",
              "      <td>-0.826416</td>\n",
              "      <td>2.177974</td>\n",
              "      <td>-0.680872</td>\n",
              "      <td>-2.105808</td>\n",
              "    </tr>\n",
              "    <tr>\n",
              "      <th>2998</th>\n",
              "      <td>0.466419</td>\n",
              "      <td>0.840116</td>\n",
              "      <td>0.0</td>\n",
              "      <td>2.142078</td>\n",
              "      <td>0.844883</td>\n",
              "      <td>3.640058</td>\n",
              "      <td>-0.571849</td>\n",
              "      <td>-2.439769</td>\n",
              "      <td>-1.554343</td>\n",
              "      <td>0.503489</td>\n",
              "      <td>1.640271</td>\n",
              "      <td>-1.425754</td>\n",
              "      <td>-1.116880</td>\n",
              "    </tr>\n",
              "  </tbody>\n",
              "</table>\n",
              "<p>2999 rows × 13 columns</p>\n",
              "</div>"
            ],
            "text/plain": [
              "            0         1    2         3   ...        9         10        11        12\n",
              "0    -1.178844 -0.725038  0.0 -0.695435  ...  0.791406 -0.564310 -0.291754  0.344083\n",
              "1    -0.482771 -1.116327  0.0 -0.695435  ...  0.147019 -0.564310  0.230776  0.344083\n",
              "2    -0.166375 -0.138106  0.0 -0.695435  ... -0.826416  0.977104  0.064011 -1.435781\n",
              "3     1.542167 -0.529394  0.0 -0.695435  ...  1.134165 -0.564310 -0.569695  1.767150\n",
              "4     0.213301 -0.333750  0.0 -0.695435  ...  0.105888 -0.564310  0.264128  0.735685\n",
              "...        ...       ...  ...       ...  ...       ...       ...       ...       ...\n",
              "2994 -0.039816 -0.920683  0.0 -0.695435  ... -0.003794 -0.564310  0.353070  0.403893\n",
              "2995 -0.546051  4.361712  0.0  0.530927  ... -0.826416 -0.564310  1.020129 -0.300421\n",
              "2996  0.466419 -1.116327  0.0 -0.695435  ...  0.160730 -0.564310  0.219658  0.969769\n",
              "2997 -0.039816 -0.920683  0.0 -0.695435  ... -0.826416  2.177974 -0.680872 -2.105808\n",
              "2998  0.466419  0.840116  0.0  2.142078  ...  0.503489  1.640271 -1.425754 -1.116880\n",
              "\n",
              "[2999 rows x 13 columns]"
            ]
          },
          "metadata": {
            "tags": []
          },
          "execution_count": 147
        }
      ]
    },
    {
      "cell_type": "code",
      "metadata": {
        "colab": {
          "base_uri": "https://localhost:8080/"
        },
        "id": "wunijp6soLU3",
        "outputId": "9bb89ca9-219f-4587-c600-97713da7779f"
      },
      "source": [
        "y_pred=clf.predict(x_test)\n",
        "print(\"Accuracy:\",metrics.accuracy_score(y_test, y_pred))\n",
        "print(\"f1:\",metrics.f1_score(y_test, y_pred,average='macro'))"
      ],
      "execution_count": null,
      "outputs": [
        {
          "output_type": "stream",
          "text": [
            "Accuracy: 0.5375\n",
            "f1: 0.5374277230817315\n"
          ],
          "name": "stdout"
        }
      ]
    },
    {
      "cell_type": "code",
      "metadata": {
        "colab": {
          "base_uri": "https://localhost:8080/"
        },
        "id": "UwDyKazVdFoc",
        "outputId": "10fd33a4-db5d-495f-f789-d000828c6a0b"
      },
      "source": [
        "cm=metrics.confusion_matrix(y_test,y_pred)\n",
        "cm"
      ],
      "execution_count": null,
      "outputs": [
        {
          "output_type": "execute_result",
          "data": {
            "text/plain": [
              "array([[110, 103],\n",
              "       [ 82, 105]])"
            ]
          },
          "metadata": {
            "tags": []
          },
          "execution_count": 36
        }
      ]
    },
    {
      "cell_type": "code",
      "metadata": {
        "colab": {
          "base_uri": "https://localhost:8080/",
          "height": 286
        },
        "id": "I5wG5YRKdoKF",
        "outputId": "b5ac2e06-7d9d-4c9e-8abd-f3d02efbdf7f"
      },
      "source": [
        "df_cm = pd.DataFrame(cm, index = ['INCIDENTAL','INFLUENTIAL'],\n",
        "                  columns = ['INCIDENTAL','INFLUENTIAL'])\n",
        "# plt.figure(figsize = (10,7))\n",
        "sns.heatmap(df_cm, annot=True,cmap=\"YlGnBu\",fmt='d')"
      ],
      "execution_count": null,
      "outputs": [
        {
          "output_type": "execute_result",
          "data": {
            "text/plain": [
              "<matplotlib.axes._subplots.AxesSubplot at 0x7f3a341894d0>"
            ]
          },
          "metadata": {
            "tags": []
          },
          "execution_count": 37
        },
        {
          "output_type": "display_data",
          "data": {
            "image/png": "[encoded data removed]",
            "text/plain": [
              "<Figure size 432x288 with 2 Axes>"
            ]
          },
          "metadata": {
            "tags": [],
            "needs_background": "light"
          }
        }
      ]
    },
    {
      "cell_type": "code",
      "metadata": {
        "colab": {
          "base_uri": "https://localhost:8080/"
        },
        "id": "cPEN8QpkobxM",
        "outputId": "9b9dbfe4-9de9-42dc-8cfb-db15d1660d42"
      },
      "source": [
        "feature_imp = pd.Series(clf.feature_importances_,index=df_tr.columns[2:]).sort_values(ascending=False)\n",
        "feature_imp"
      ],
      "execution_count": null,
      "outputs": [
        {
          "output_type": "execute_result",
          "data": {
            "text/plain": [
              "wmd_titles                           0.152014\n",
              "wmd_citance_cited_title              0.144243\n",
              "wmd                                  0.134579\n",
              "citation length                      0.094303\n",
              "cited title length                   0.091349\n",
              "tfidf_citance_citedtitle             0.080861\n",
              "vad_com                              0.053899\n",
              "vad_pos                              0.051301\n",
              "tfidf                                0.049036\n",
              "vad_neu                              0.047235\n",
              "vad_neg                              0.041947\n",
              "citance cited title keyword match    0.032134\n",
              "citing cited titles keyword match    0.027100\n",
              "self_citation                        0.000000\n",
              "dtype: float64"
            ]
          },
          "metadata": {
            "tags": []
          },
          "execution_count": 38
        }
      ]
    },
    {
      "cell_type": "code",
      "metadata": {
        "colab": {
          "base_uri": "https://localhost:8080/",
          "height": 312
        },
        "id": "S3lWGnZyo0kn",
        "outputId": "76645909-529e-4a66-c969-434dcf283cd2"
      },
      "source": [
        "%matplotlib inline\n",
        "# Creating a bar plot\n",
        "sns.barplot(x=feature_imp, y=feature_imp.index)\n",
        "# Add labels to your graph\n",
        "plt.xlabel('Feature Importance Score')\n",
        "plt.ylabel('Features')\n",
        "plt.title(\"Visualizing Important Features\")\n",
        "plt.legend()\n",
        "plt.show()"
      ],
      "execution_count": null,
      "outputs": [
        {
          "output_type": "stream",
          "text": [
            "No handles with labels found to put in legend.\n"
          ],
          "name": "stderr"
        },
        {
          "output_type": "display_data",
          "data": {
            "image/png": "[encoded data removed]",
            "text/plain": [
              "<Figure size 432x288 with 1 Axes>"
            ]
          },
          "metadata": {
            "tags": [],
            "needs_background": "light"
          }
        }
      ]
    },
    {
      "cell_type": "code",
      "metadata": {
        "colab": {
          "base_uri": "https://localhost:8080/"
        },
        "id": "mW8_JoBRum2Z",
        "outputId": "7034c715-0620-4b8e-d697-755f06840f9d"
      },
      "source": [
        "df_te.columns[1:]"
      ],
      "execution_count": null,
      "outputs": [
        {
          "output_type": "execute_result",
          "data": {
            "text/plain": [
              "Index(['tfidf', 'wmd', 'vad_pos', 'vad_neg', 'vad_neu', 'vad_com',\n",
              "       'citation length', 'cited title length', 'self_citation',\n",
              "       'tfidf_citance_citedtitle', 'citance cited title keyword match',\n",
              "       'citing cited titles keyword match', 'wmd_titles',\n",
              "       'wmd_citance_cited_title'],\n",
              "      dtype='object')"
            ]
          },
          "metadata": {
            "tags": []
          },
          "execution_count": 27
        }
      ]
    },
    {
      "cell_type": "code",
      "metadata": {
        "colab": {
          "base_uri": "https://localhost:8080/"
        },
        "id": "qpjafhumcz0_",
        "outputId": "55f3e00e-9209-4e05-c044-7adf6f8306f3"
      },
      "source": [
        "df_te.replace([np.inf, -np.inf], 100)['wmd_citance_cited_title'].value_counts()"
      ],
      "execution_count": null,
      "outputs": [
        {
          "output_type": "execute_result",
          "data": {
            "text/plain": [
              "100.000000    2\n",
              "3.026566      1\n",
              "3.716916      1\n",
              "2.771583      1\n",
              "3.626371      1\n",
              "             ..\n",
              "3.820096      1\n",
              "3.607833      1\n",
              "2.750612      1\n",
              "2.888618      1\n",
              "3.821147      1\n",
              "Name: wmd_citance_cited_title, Length: 999, dtype: int64"
            ]
          },
          "metadata": {
            "tags": []
          },
          "execution_count": 28
        }
      ]
    },
    {
      "cell_type": "code",
      "metadata": {
        "colab": {
          "base_uri": "https://localhost:8080/"
        },
        "id": "tBWKZUZtcPe4",
        "outputId": "9ad7241a-b85d-44cb-ccb1-3c2863a1b31a"
      },
      "source": [
        "df_te['wmd_citance_cited_title'].value_counts()"
      ],
      "execution_count": null,
      "outputs": [
        {
          "output_type": "execute_result",
          "data": {
            "text/plain": [
              "inf         2\n",
              "3.000038    1\n",
              "3.764980    1\n",
              "3.259686    1\n",
              "3.566216    1\n",
              "           ..\n",
              "3.116919    1\n",
              "3.453224    1\n",
              "2.942267    1\n",
              "3.643249    1\n",
              "3.418417    1\n",
              "Name: wmd_citance_cited_title, Length: 999, dtype: int64"
            ]
          },
          "metadata": {
            "tags": []
          },
          "execution_count": 165
        }
      ]
    },
    {
      "cell_type": "code",
      "metadata": {
        "id": "zJ3S6H0GxoXi"
      },
      "source": [
        "df_te = df_te.replace([np.inf, -np.inf], 100)\n",
        "data_test = df_te.values[:, 1:]\n",
        "# perform a robust scaler transform of the dataset\n",
        "trans = StandardScaler()\n",
        "data_test = trans.fit_transform(data_test)\n",
        "# convert the array back to a dataframe\n",
        "dataset_test = pd.DataFrame(data_test)\n",
        "\n",
        "x_test_submit=dataset_test.loc[:,:]"
      ],
      "execution_count": null,
      "outputs": []
    },
    {
      "cell_type": "code",
      "metadata": {
        "colab": {
          "base_uri": "https://localhost:8080/",
          "height": 402
        },
        "id": "stP3HQCQyDgG",
        "outputId": "44771ac9-ae26-4dc5-ae48-b4a76884cb0e"
      },
      "source": [
        "x_test_submit"
      ],
      "execution_count": null,
      "outputs": [
        {
          "output_type": "execute_result",
          "data": {
            "text/html": [
              "<div>\n",
              "<style scoped>\n",
              "    .dataframe tbody tr th:only-of-type {\n",
              "        vertical-align: middle;\n",
              "    }\n",
              "\n",
              "    .dataframe tbody tr th {\n",
              "        vertical-align: top;\n",
              "    }\n",
              "\n",
              "    .dataframe thead th {\n",
              "        text-align: right;\n",
              "    }\n",
              "</style>\n",
              "<table border=\"1\" class=\"dataframe\">\n",
              "  <thead>\n",
              "    <tr style=\"text-align: right;\">\n",
              "      <th></th>\n",
              "      <th>0</th>\n",
              "      <th>1</th>\n",
              "      <th>2</th>\n",
              "      <th>3</th>\n",
              "      <th>4</th>\n",
              "      <th>5</th>\n",
              "      <th>6</th>\n",
              "      <th>7</th>\n",
              "      <th>8</th>\n",
              "      <th>9</th>\n",
              "      <th>10</th>\n",
              "      <th>11</th>\n",
              "      <th>12</th>\n",
              "      <th>13</th>\n",
              "    </tr>\n",
              "  </thead>\n",
              "  <tbody>\n",
              "    <tr>\n",
              "      <th>0</th>\n",
              "      <td>-0.665077</td>\n",
              "      <td>-1.222733</td>\n",
              "      <td>0.062082</td>\n",
              "      <td>-0.571415</td>\n",
              "      <td>0.389613</td>\n",
              "      <td>0.866930</td>\n",
              "      <td>0.607491</td>\n",
              "      <td>3.132789</td>\n",
              "      <td>0.0</td>\n",
              "      <td>-0.807856</td>\n",
              "      <td>-0.842902</td>\n",
              "      <td>-0.547757</td>\n",
              "      <td>-0.060259</td>\n",
              "      <td>-0.057925</td>\n",
              "    </tr>\n",
              "    <tr>\n",
              "      <th>1</th>\n",
              "      <td>-0.665077</td>\n",
              "      <td>-0.261368</td>\n",
              "      <td>-0.867151</td>\n",
              "      <td>-0.571415</td>\n",
              "      <td>1.044232</td>\n",
              "      <td>-0.213850</td>\n",
              "      <td>0.037612</td>\n",
              "      <td>-0.827981</td>\n",
              "      <td>0.0</td>\n",
              "      <td>-0.807856</td>\n",
              "      <td>-0.842902</td>\n",
              "      <td>-0.547757</td>\n",
              "      <td>0.055625</td>\n",
              "      <td>0.086488</td>\n",
              "    </tr>\n",
              "    <tr>\n",
              "      <th>2</th>\n",
              "      <td>-0.665077</td>\n",
              "      <td>-0.308610</td>\n",
              "      <td>-0.867151</td>\n",
              "      <td>-0.571415</td>\n",
              "      <td>1.044232</td>\n",
              "      <td>-0.213850</td>\n",
              "      <td>-0.532267</td>\n",
              "      <td>0.612299</td>\n",
              "      <td>0.0</td>\n",
              "      <td>-0.807856</td>\n",
              "      <td>-0.842902</td>\n",
              "      <td>-0.547757</td>\n",
              "      <td>0.124140</td>\n",
              "      <td>0.148770</td>\n",
              "    </tr>\n",
              "    <tr>\n",
              "      <th>3</th>\n",
              "      <td>-0.665077</td>\n",
              "      <td>-0.749487</td>\n",
              "      <td>-0.867151</td>\n",
              "      <td>-0.571415</td>\n",
              "      <td>1.044232</td>\n",
              "      <td>-0.213850</td>\n",
              "      <td>-0.975507</td>\n",
              "      <td>-0.287876</td>\n",
              "      <td>0.0</td>\n",
              "      <td>0.899383</td>\n",
              "      <td>0.033295</td>\n",
              "      <td>-0.547757</td>\n",
              "      <td>-0.054536</td>\n",
              "      <td>-0.224620</td>\n",
              "    </tr>\n",
              "    <tr>\n",
              "      <th>4</th>\n",
              "      <td>-0.665077</td>\n",
              "      <td>0.758328</td>\n",
              "      <td>2.908778</td>\n",
              "      <td>-0.571415</td>\n",
              "      <td>-1.615809</td>\n",
              "      <td>1.349158</td>\n",
              "      <td>-0.848867</td>\n",
              "      <td>-1.188051</td>\n",
              "      <td>0.0</td>\n",
              "      <td>-0.807856</td>\n",
              "      <td>-0.842902</td>\n",
              "      <td>-0.547757</td>\n",
              "      <td>-0.049246</td>\n",
              "      <td>-0.030489</td>\n",
              "    </tr>\n",
              "    <tr>\n",
              "      <th>...</th>\n",
              "      <td>...</td>\n",
              "      <td>...</td>\n",
              "      <td>...</td>\n",
              "      <td>...</td>\n",
              "      <td>...</td>\n",
              "      <td>...</td>\n",
              "      <td>...</td>\n",
              "      <td>...</td>\n",
              "      <td>...</td>\n",
              "      <td>...</td>\n",
              "      <td>...</td>\n",
              "      <td>...</td>\n",
              "      <td>...</td>\n",
              "      <td>...</td>\n",
              "    </tr>\n",
              "    <tr>\n",
              "      <th>995</th>\n",
              "      <td>0.936834</td>\n",
              "      <td>-0.684840</td>\n",
              "      <td>-0.365660</td>\n",
              "      <td>0.647742</td>\n",
              "      <td>-0.233834</td>\n",
              "      <td>-1.617342</td>\n",
              "      <td>1.747250</td>\n",
              "      <td>0.432264</td>\n",
              "      <td>0.0</td>\n",
              "      <td>4.440695</td>\n",
              "      <td>3.538084</td>\n",
              "      <td>0.536911</td>\n",
              "      <td>-0.240828</td>\n",
              "      <td>-0.285458</td>\n",
              "    </tr>\n",
              "    <tr>\n",
              "      <th>996</th>\n",
              "      <td>-0.665077</td>\n",
              "      <td>-0.597300</td>\n",
              "      <td>-0.867151</td>\n",
              "      <td>1.524440</td>\n",
              "      <td>-0.545558</td>\n",
              "      <td>-1.294629</td>\n",
              "      <td>-1.102146</td>\n",
              "      <td>0.612299</td>\n",
              "      <td>0.0</td>\n",
              "      <td>-0.807856</td>\n",
              "      <td>-0.842902</td>\n",
              "      <td>-0.547757</td>\n",
              "      <td>0.044594</td>\n",
              "      <td>0.076640</td>\n",
              "    </tr>\n",
              "    <tr>\n",
              "      <th>997</th>\n",
              "      <td>-0.032560</td>\n",
              "      <td>-0.588106</td>\n",
              "      <td>0.799568</td>\n",
              "      <td>-0.571415</td>\n",
              "      <td>-0.129926</td>\n",
              "      <td>1.619108</td>\n",
              "      <td>1.114051</td>\n",
              "      <td>0.432264</td>\n",
              "      <td>0.0</td>\n",
              "      <td>-0.135007</td>\n",
              "      <td>0.909493</td>\n",
              "      <td>0.536911</td>\n",
              "      <td>-0.107099</td>\n",
              "      <td>-0.138683</td>\n",
              "    </tr>\n",
              "    <tr>\n",
              "      <th>998</th>\n",
              "      <td>0.166015</td>\n",
              "      <td>-0.661934</td>\n",
              "      <td>0.799568</td>\n",
              "      <td>-0.571415</td>\n",
              "      <td>-0.129926</td>\n",
              "      <td>1.619108</td>\n",
              "      <td>1.114051</td>\n",
              "      <td>-0.647946</td>\n",
              "      <td>0.0</td>\n",
              "      <td>0.094366</td>\n",
              "      <td>0.033295</td>\n",
              "      <td>-0.547757</td>\n",
              "      <td>-0.038277</td>\n",
              "      <td>-0.017696</td>\n",
              "    </tr>\n",
              "    <tr>\n",
              "      <th>999</th>\n",
              "      <td>-0.665077</td>\n",
              "      <td>-1.100877</td>\n",
              "      <td>-0.867151</td>\n",
              "      <td>4.291516</td>\n",
              "      <td>-2.644496</td>\n",
              "      <td>-2.107668</td>\n",
              "      <td>-1.102146</td>\n",
              "      <td>0.072194</td>\n",
              "      <td>0.0</td>\n",
              "      <td>0.699648</td>\n",
              "      <td>0.033295</td>\n",
              "      <td>-0.547757</td>\n",
              "      <td>0.057967</td>\n",
              "      <td>-0.134639</td>\n",
              "    </tr>\n",
              "  </tbody>\n",
              "</table>\n",
              "<p>1000 rows × 14 columns</p>\n",
              "</div>"
            ],
            "text/plain": [
              "           0         1         2   ...        11        12        13\n",
              "0   -0.665077 -1.222733  0.062082  ... -0.547757 -0.060259 -0.057925\n",
              "1   -0.665077 -0.261368 -0.867151  ... -0.547757  0.055625  0.086488\n",
              "2   -0.665077 -0.308610 -0.867151  ... -0.547757  0.124140  0.148770\n",
              "3   -0.665077 -0.749487 -0.867151  ... -0.547757 -0.054536 -0.224620\n",
              "4   -0.665077  0.758328  2.908778  ... -0.547757 -0.049246 -0.030489\n",
              "..        ...       ...       ...  ...       ...       ...       ...\n",
              "995  0.936834 -0.684840 -0.365660  ...  0.536911 -0.240828 -0.285458\n",
              "996 -0.665077 -0.597300 -0.867151  ... -0.547757  0.044594  0.076640\n",
              "997 -0.032560 -0.588106  0.799568  ...  0.536911 -0.107099 -0.138683\n",
              "998  0.166015 -0.661934  0.799568  ... -0.547757 -0.038277 -0.017696\n",
              "999 -0.665077 -1.100877 -0.867151  ... -0.547757  0.057967 -0.134639\n",
              "\n",
              "[1000 rows x 14 columns]"
            ]
          },
          "metadata": {
            "tags": []
          },
          "execution_count": 30
        }
      ]
    },
    {
      "cell_type": "code",
      "metadata": {
        "colab": {
          "base_uri": "https://localhost:8080/"
        },
        "id": "8D5WfZPYuYyE",
        "outputId": "2e7b044e-94ae-45c5-f307-b6609db76ea1"
      },
      "source": [
        "ytest_pred = clf.predict(x_test_submit)\n",
        "ytest_pred = list(ytest_pred)\n",
        "unique_ids = ['CCT'+str(i+1) for i,y in enumerate(ytest_pred)]\n",
        "\n",
        "data = {'citation_influence_label':ytest_pred}\n",
        "\n",
        "df = pd.DataFrame(data, index = unique_ids)\n",
        "df.index.name = 'unique_id'\n",
        "print(df)\n",
        "df.to_csv('/content/submission_decisiontree_features_combined.csv')"
      ],
      "execution_count": null,
      "outputs": [
        {
          "output_type": "stream",
          "text": [
            "           citation_influence_label\n",
            "unique_id                          \n",
            "CCT1                              0\n",
            "CCT2                              0\n",
            "CCT3                              1\n",
            "CCT4                              0\n",
            "CCT5                              0\n",
            "...                             ...\n",
            "CCT996                            0\n",
            "CCT997                            1\n",
            "CCT998                            0\n",
            "CCT999                            1\n",
            "CCT1000                           0\n",
            "\n",
            "[1000 rows x 1 columns]\n"
          ],
          "name": "stdout"
        }
      ]
    }
  ]
}